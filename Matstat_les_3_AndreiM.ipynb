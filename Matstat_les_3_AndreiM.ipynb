{
  "nbformat": 4,
  "nbformat_minor": 0,
  "metadata": {
    "colab": {
      "provenance": []
    },
    "kernelspec": {
      "display_name": "Python 3",
      "language": "python",
      "name": "python3"
    }
  },
  "cells": [
    {
      "cell_type": "markdown",
      "metadata": {
        "id": "snzQ6I-GNKuz"
      },
      "source": [
        "## Урок 3. ДЗ (28.02.2021)"
      ]
    },
    {
      "cell_type": "markdown",
      "metadata": {
        "id": "kaEqNEobvDwR"
      },
      "source": [
        "* [Теория](#theor)\n",
        "* [Практическое задание. ДЗ.](#ex)\n",
        "    * [Задание 1](#ex1)\n",
        "    * [Задание 2](#ex2)\n",
        "    * [Задание 3](#ex3)\n",
        "    * [Задание 4](#ex4)\n",
        "    * [Задание 5](#ex5)"
      ]
    },
    {
      "cell_type": "markdown",
      "metadata": {
        "id": "o8Eomn4GvFvG"
      },
      "source": [
        "# <center>Теория <a class=\"anchor\" id=\"theor\"></a><center>"
      ]
    },
    {
      "cell_type": "markdown",
      "metadata": {
        "id": "AbhQJaRUNKu7"
      },
      "source": [
        "### Описательная статистика. Качественные и количественные характеристики популяции.\n",
        "\n",
        "### Графическое представление данных"
      ]
    },
    {
      "cell_type": "markdown",
      "metadata": {
        "id": "eoIjKvLSNKu-"
      },
      "source": [
        "[Текст ссылки](https://)Рассмотрим описательные статистические характеристики на примере датасета с данными по хоккеистам.\n",
        "\n",
        "Воспользуемся данными, приведенными в статье\n",
        "<a href='https://habr.com/post/301340/'>«Рост хоккеистов: анализируем данные всех чемпионатов мира в текущем веке»</a>.\n",
        "\n",
        "Импортируем библиотеки и загрузим данные:"
      ]
    },
    {
      "cell_type": "code",
      "metadata": {
        "id": "MPDgZjuQNKvB"
      },
      "source": [
        "import numpy as np\n",
        "import pandas as pd\n",
        "import matplotlib.pyplot as plt\n",
        "import warnings\n",
        "warnings.filterwarnings('ignore')"
      ],
      "execution_count": null,
      "outputs": []
    },
    {
      "cell_type": "code",
      "metadata": {
        "id": "MM9S4bbbNKvO",
        "colab": {
          "base_uri": "https://localhost:8080/",
          "height": 330
        },
        "outputId": "891e0419-d24c-4d84-ce87-42611b619417"
      },
      "source": [
        "df = pd.read_csv('csv/hockey_players.csv', encoding='cp1251', parse_dates=['birth'])"
      ],
      "execution_count": null,
      "outputs": [
        {
          "output_type": "error",
          "ename": "FileNotFoundError",
          "evalue": "ignored",
          "traceback": [
            "\u001b[0;31m---------------------------------------------------------------------------\u001b[0m",
            "\u001b[0;31mFileNotFoundError\u001b[0m                         Traceback (most recent call last)",
            "\u001b[0;32m<ipython-input-4-d527b8782777>\u001b[0m in \u001b[0;36m<module>\u001b[0;34m()\u001b[0m\n\u001b[0;32m----> 1\u001b[0;31m \u001b[0mdf\u001b[0m \u001b[0;34m=\u001b[0m \u001b[0mpd\u001b[0m\u001b[0;34m.\u001b[0m\u001b[0mread_csv\u001b[0m\u001b[0;34m(\u001b[0m\u001b[0;34m'csv/hockey_players.csv'\u001b[0m\u001b[0;34m,\u001b[0m \u001b[0mencoding\u001b[0m\u001b[0;34m=\u001b[0m\u001b[0;34m'cp1251'\u001b[0m\u001b[0;34m,\u001b[0m \u001b[0mparse_dates\u001b[0m\u001b[0;34m=\u001b[0m\u001b[0;34m[\u001b[0m\u001b[0;34m'birth'\u001b[0m\u001b[0;34m]\u001b[0m\u001b[0;34m)\u001b[0m\u001b[0;34m\u001b[0m\u001b[0;34m\u001b[0m\u001b[0m\n\u001b[0m",
            "\u001b[0;32m/usr/local/lib/python3.7/dist-packages/pandas/io/parsers.py\u001b[0m in \u001b[0;36mread_csv\u001b[0;34m(filepath_or_buffer, sep, delimiter, header, names, index_col, usecols, squeeze, prefix, mangle_dupe_cols, dtype, engine, converters, true_values, false_values, skipinitialspace, skiprows, skipfooter, nrows, na_values, keep_default_na, na_filter, verbose, skip_blank_lines, parse_dates, infer_datetime_format, keep_date_col, date_parser, dayfirst, cache_dates, iterator, chunksize, compression, thousands, decimal, lineterminator, quotechar, quoting, doublequote, escapechar, comment, encoding, dialect, error_bad_lines, warn_bad_lines, delim_whitespace, low_memory, memory_map, float_precision)\u001b[0m\n\u001b[1;32m    686\u001b[0m     )\n\u001b[1;32m    687\u001b[0m \u001b[0;34m\u001b[0m\u001b[0m\n\u001b[0;32m--> 688\u001b[0;31m     \u001b[0;32mreturn\u001b[0m \u001b[0m_read\u001b[0m\u001b[0;34m(\u001b[0m\u001b[0mfilepath_or_buffer\u001b[0m\u001b[0;34m,\u001b[0m \u001b[0mkwds\u001b[0m\u001b[0;34m)\u001b[0m\u001b[0;34m\u001b[0m\u001b[0;34m\u001b[0m\u001b[0m\n\u001b[0m\u001b[1;32m    689\u001b[0m \u001b[0;34m\u001b[0m\u001b[0m\n\u001b[1;32m    690\u001b[0m \u001b[0;34m\u001b[0m\u001b[0m\n",
            "\u001b[0;32m/usr/local/lib/python3.7/dist-packages/pandas/io/parsers.py\u001b[0m in \u001b[0;36m_read\u001b[0;34m(filepath_or_buffer, kwds)\u001b[0m\n\u001b[1;32m    452\u001b[0m \u001b[0;34m\u001b[0m\u001b[0m\n\u001b[1;32m    453\u001b[0m     \u001b[0;31m# Create the parser.\u001b[0m\u001b[0;34m\u001b[0m\u001b[0;34m\u001b[0m\u001b[0;34m\u001b[0m\u001b[0m\n\u001b[0;32m--> 454\u001b[0;31m     \u001b[0mparser\u001b[0m \u001b[0;34m=\u001b[0m \u001b[0mTextFileReader\u001b[0m\u001b[0;34m(\u001b[0m\u001b[0mfp_or_buf\u001b[0m\u001b[0;34m,\u001b[0m \u001b[0;34m**\u001b[0m\u001b[0mkwds\u001b[0m\u001b[0;34m)\u001b[0m\u001b[0;34m\u001b[0m\u001b[0;34m\u001b[0m\u001b[0m\n\u001b[0m\u001b[1;32m    455\u001b[0m \u001b[0;34m\u001b[0m\u001b[0m\n\u001b[1;32m    456\u001b[0m     \u001b[0;32mif\u001b[0m \u001b[0mchunksize\u001b[0m \u001b[0;32mor\u001b[0m \u001b[0miterator\u001b[0m\u001b[0;34m:\u001b[0m\u001b[0;34m\u001b[0m\u001b[0;34m\u001b[0m\u001b[0m\n",
            "\u001b[0;32m/usr/local/lib/python3.7/dist-packages/pandas/io/parsers.py\u001b[0m in \u001b[0;36m__init__\u001b[0;34m(self, f, engine, **kwds)\u001b[0m\n\u001b[1;32m    946\u001b[0m             \u001b[0mself\u001b[0m\u001b[0;34m.\u001b[0m\u001b[0moptions\u001b[0m\u001b[0;34m[\u001b[0m\u001b[0;34m\"has_index_names\"\u001b[0m\u001b[0;34m]\u001b[0m \u001b[0;34m=\u001b[0m \u001b[0mkwds\u001b[0m\u001b[0;34m[\u001b[0m\u001b[0;34m\"has_index_names\"\u001b[0m\u001b[0;34m]\u001b[0m\u001b[0;34m\u001b[0m\u001b[0;34m\u001b[0m\u001b[0m\n\u001b[1;32m    947\u001b[0m \u001b[0;34m\u001b[0m\u001b[0m\n\u001b[0;32m--> 948\u001b[0;31m         \u001b[0mself\u001b[0m\u001b[0;34m.\u001b[0m\u001b[0m_make_engine\u001b[0m\u001b[0;34m(\u001b[0m\u001b[0mself\u001b[0m\u001b[0;34m.\u001b[0m\u001b[0mengine\u001b[0m\u001b[0;34m)\u001b[0m\u001b[0;34m\u001b[0m\u001b[0;34m\u001b[0m\u001b[0m\n\u001b[0m\u001b[1;32m    949\u001b[0m \u001b[0;34m\u001b[0m\u001b[0m\n\u001b[1;32m    950\u001b[0m     \u001b[0;32mdef\u001b[0m \u001b[0mclose\u001b[0m\u001b[0;34m(\u001b[0m\u001b[0mself\u001b[0m\u001b[0;34m)\u001b[0m\u001b[0;34m:\u001b[0m\u001b[0;34m\u001b[0m\u001b[0;34m\u001b[0m\u001b[0m\n",
            "\u001b[0;32m/usr/local/lib/python3.7/dist-packages/pandas/io/parsers.py\u001b[0m in \u001b[0;36m_make_engine\u001b[0;34m(self, engine)\u001b[0m\n\u001b[1;32m   1178\u001b[0m     \u001b[0;32mdef\u001b[0m \u001b[0m_make_engine\u001b[0m\u001b[0;34m(\u001b[0m\u001b[0mself\u001b[0m\u001b[0;34m,\u001b[0m \u001b[0mengine\u001b[0m\u001b[0;34m=\u001b[0m\u001b[0;34m\"c\"\u001b[0m\u001b[0;34m)\u001b[0m\u001b[0;34m:\u001b[0m\u001b[0;34m\u001b[0m\u001b[0;34m\u001b[0m\u001b[0m\n\u001b[1;32m   1179\u001b[0m         \u001b[0;32mif\u001b[0m \u001b[0mengine\u001b[0m \u001b[0;34m==\u001b[0m \u001b[0;34m\"c\"\u001b[0m\u001b[0;34m:\u001b[0m\u001b[0;34m\u001b[0m\u001b[0;34m\u001b[0m\u001b[0m\n\u001b[0;32m-> 1180\u001b[0;31m             \u001b[0mself\u001b[0m\u001b[0;34m.\u001b[0m\u001b[0m_engine\u001b[0m \u001b[0;34m=\u001b[0m \u001b[0mCParserWrapper\u001b[0m\u001b[0;34m(\u001b[0m\u001b[0mself\u001b[0m\u001b[0;34m.\u001b[0m\u001b[0mf\u001b[0m\u001b[0;34m,\u001b[0m \u001b[0;34m**\u001b[0m\u001b[0mself\u001b[0m\u001b[0;34m.\u001b[0m\u001b[0moptions\u001b[0m\u001b[0;34m)\u001b[0m\u001b[0;34m\u001b[0m\u001b[0;34m\u001b[0m\u001b[0m\n\u001b[0m\u001b[1;32m   1181\u001b[0m         \u001b[0;32melse\u001b[0m\u001b[0;34m:\u001b[0m\u001b[0;34m\u001b[0m\u001b[0;34m\u001b[0m\u001b[0m\n\u001b[1;32m   1182\u001b[0m             \u001b[0;32mif\u001b[0m \u001b[0mengine\u001b[0m \u001b[0;34m==\u001b[0m \u001b[0;34m\"python\"\u001b[0m\u001b[0;34m:\u001b[0m\u001b[0;34m\u001b[0m\u001b[0;34m\u001b[0m\u001b[0m\n",
            "\u001b[0;32m/usr/local/lib/python3.7/dist-packages/pandas/io/parsers.py\u001b[0m in \u001b[0;36m__init__\u001b[0;34m(self, src, **kwds)\u001b[0m\n\u001b[1;32m   1991\u001b[0m         \u001b[0;32mif\u001b[0m \u001b[0mkwds\u001b[0m\u001b[0;34m.\u001b[0m\u001b[0mget\u001b[0m\u001b[0;34m(\u001b[0m\u001b[0;34m\"compression\"\u001b[0m\u001b[0;34m)\u001b[0m \u001b[0;32mis\u001b[0m \u001b[0;32mNone\u001b[0m \u001b[0;32mand\u001b[0m \u001b[0mencoding\u001b[0m\u001b[0;34m:\u001b[0m\u001b[0;34m\u001b[0m\u001b[0;34m\u001b[0m\u001b[0m\n\u001b[1;32m   1992\u001b[0m             \u001b[0;32mif\u001b[0m \u001b[0misinstance\u001b[0m\u001b[0;34m(\u001b[0m\u001b[0msrc\u001b[0m\u001b[0;34m,\u001b[0m \u001b[0mstr\u001b[0m\u001b[0;34m)\u001b[0m\u001b[0;34m:\u001b[0m\u001b[0;34m\u001b[0m\u001b[0;34m\u001b[0m\u001b[0m\n\u001b[0;32m-> 1993\u001b[0;31m                 \u001b[0msrc\u001b[0m \u001b[0;34m=\u001b[0m \u001b[0mopen\u001b[0m\u001b[0;34m(\u001b[0m\u001b[0msrc\u001b[0m\u001b[0;34m,\u001b[0m \u001b[0;34m\"rb\"\u001b[0m\u001b[0;34m)\u001b[0m\u001b[0;34m\u001b[0m\u001b[0;34m\u001b[0m\u001b[0m\n\u001b[0m\u001b[1;32m   1994\u001b[0m                 \u001b[0mself\u001b[0m\u001b[0;34m.\u001b[0m\u001b[0mhandles\u001b[0m\u001b[0;34m.\u001b[0m\u001b[0mappend\u001b[0m\u001b[0;34m(\u001b[0m\u001b[0msrc\u001b[0m\u001b[0;34m)\u001b[0m\u001b[0;34m\u001b[0m\u001b[0;34m\u001b[0m\u001b[0m\n\u001b[1;32m   1995\u001b[0m \u001b[0;34m\u001b[0m\u001b[0m\n",
            "\u001b[0;31mFileNotFoundError\u001b[0m: [Errno 2] No such file or directory: 'csv/hockey_players.csv'"
          ]
        }
      ]
    },
    {
      "cell_type": "markdown",
      "metadata": {
        "collapsed": true,
        "id": "pIK_WLKxNKvU"
      },
      "source": [
        "Удалим дубликаты:"
      ]
    },
    {
      "cell_type": "code",
      "metadata": {
        "id": "z6-tGI8sNKvX",
        "colab": {
          "base_uri": "https://localhost:8080/",
          "height": 174
        },
        "outputId": "bb736636-c5c2-4269-a9ca-fe0856c8082f"
      },
      "source": [
        "df = df.drop_duplicates(['name', 'birth'])"
      ],
      "execution_count": null,
      "outputs": [
        {
          "output_type": "error",
          "ename": "NameError",
          "evalue": "ignored",
          "traceback": [
            "\u001b[0;31m---------------------------------------------------------------------------\u001b[0m",
            "\u001b[0;31mNameError\u001b[0m                                 Traceback (most recent call last)",
            "\u001b[0;32m<ipython-input-5-5b40418bb998>\u001b[0m in \u001b[0;36m<module>\u001b[0;34m()\u001b[0m\n\u001b[0;32m----> 1\u001b[0;31m \u001b[0mdf\u001b[0m \u001b[0;34m=\u001b[0m \u001b[0mdf\u001b[0m\u001b[0;34m.\u001b[0m\u001b[0mdrop_duplicates\u001b[0m\u001b[0;34m(\u001b[0m\u001b[0;34m[\u001b[0m\u001b[0;34m'name'\u001b[0m\u001b[0;34m,\u001b[0m \u001b[0;34m'birth'\u001b[0m\u001b[0;34m]\u001b[0m\u001b[0;34m)\u001b[0m\u001b[0;34m\u001b[0m\u001b[0;34m\u001b[0m\u001b[0m\n\u001b[0m",
            "\u001b[0;31mNameError\u001b[0m: name 'df' is not defined"
          ]
        }
      ]
    },
    {
      "cell_type": "markdown",
      "metadata": {
        "collapsed": true,
        "id": "XHQWUbRsNKvh"
      },
      "source": [
        "Данный датасет мог бы считаться **генеральной совокупностью**, если бы он содержал данные обо всех хоккеистах,\n",
        "\n",
        "соответствующих определенным характеристикам."
      ]
    },
    {
      "cell_type": "markdown",
      "metadata": {
        "id": "rnJWY6-KNKvj"
      },
      "source": [
        "Если мы выберем случайным образом определенное количество примеров (наблюдений), такое множество можно называть выборкой.\n",
        "\n",
        "**Выборка** — это случайным образом выбранная часть генеральной совокупности."
      ]
    },
    {
      "cell_type": "markdown",
      "metadata": {
        "id": "4rM_9Cz_NKvm"
      },
      "source": [
        "Одно из основных понятий в теории вероятностей — **математическое ожидание**. Обозначается как $M(X)$ (в статистике принято обозначение $\\mu$).\n",
        "\n",
        "Математическое ожидание — среднее значение случайной величины (распределение вероятностей стационарной случайной величины) при стремлении количества выборок или количества измерений (иногда говорят — количества испытаний) к бесконечности."
      ]
    },
    {
      "cell_type": "markdown",
      "metadata": {
        "id": "GsitNS2_NKvp"
      },
      "source": [
        "Среднее арифметическое одномерной случайной величины конечного числа испытаний обычно называют оценкой математического ожидания. При стремлении числа испытаний стационарного случайного процесса к бесконечности оценка математического ожидания стремится к математическому ожиданию."
      ]
    },
    {
      "cell_type": "markdown",
      "metadata": {
        "id": "v9b2wxzGNKvu"
      },
      "source": [
        "# Найдем среднее значение роста хоккеистов из датасета по формуле:"
      ]
    },
    {
      "cell_type": "markdown",
      "metadata": {
        "id": "xvSB9hufNKvw"
      },
      "source": [
        "$$M(X) = \\frac{1}{n} \\sum\\limits_{i=1}^{n} x_i$$"
      ]
    },
    {
      "cell_type": "markdown",
      "metadata": {
        "id": "MJ0J2HMTNKvy"
      },
      "source": [
        "где $x$ — рост, $n$ — количество наблюдений."
      ]
    },
    {
      "cell_type": "code",
      "metadata": {
        "id": "8yLDxwZINKv0",
        "colab": {
          "base_uri": "https://localhost:8080/",
          "height": 193
        },
        "outputId": "5fde33cc-7bf5-43fe-ea66-a29cfdadca7f"
      },
      "source": [
        "mean_height = df['height'].sum() / df['height'].count()\n",
        "mean_height"
      ],
      "execution_count": null,
      "outputs": [
        {
          "output_type": "error",
          "ename": "NameError",
          "evalue": "ignored",
          "traceback": [
            "\u001b[0;31m---------------------------------------------------------------------------\u001b[0m",
            "\u001b[0;31mNameError\u001b[0m                                 Traceback (most recent call last)",
            "\u001b[0;32m<ipython-input-6-91a43c46accd>\u001b[0m in \u001b[0;36m<module>\u001b[0;34m()\u001b[0m\n\u001b[0;32m----> 1\u001b[0;31m \u001b[0mmean_height\u001b[0m \u001b[0;34m=\u001b[0m \u001b[0mdf\u001b[0m\u001b[0;34m[\u001b[0m\u001b[0;34m'height'\u001b[0m\u001b[0;34m]\u001b[0m\u001b[0;34m.\u001b[0m\u001b[0msum\u001b[0m\u001b[0;34m(\u001b[0m\u001b[0;34m)\u001b[0m \u001b[0;34m/\u001b[0m \u001b[0mdf\u001b[0m\u001b[0;34m[\u001b[0m\u001b[0;34m'height'\u001b[0m\u001b[0;34m]\u001b[0m\u001b[0;34m.\u001b[0m\u001b[0mcount\u001b[0m\u001b[0;34m(\u001b[0m\u001b[0;34m)\u001b[0m\u001b[0;34m\u001b[0m\u001b[0;34m\u001b[0m\u001b[0m\n\u001b[0m\u001b[1;32m      2\u001b[0m \u001b[0mmean_height\u001b[0m\u001b[0;34m\u001b[0m\u001b[0;34m\u001b[0m\u001b[0m\n",
            "\u001b[0;31mNameError\u001b[0m: name 'df' is not defined"
          ]
        }
      ]
    },
    {
      "cell_type": "markdown",
      "metadata": {
        "id": "apehcU5jNKwF"
      },
      "source": [
        "Найдем эту же величину с помощью метода **mean**:"
      ]
    },
    {
      "cell_type": "code",
      "metadata": {
        "id": "4tPnNQLtNKwJ",
        "colab": {
          "base_uri": "https://localhost:8080/",
          "height": 174
        },
        "outputId": "138c26fd-9a4d-4727-aac0-3ddb644698d2"
      },
      "source": [
        "df['height'].mean()"
      ],
      "execution_count": null,
      "outputs": [
        {
          "output_type": "error",
          "ename": "NameError",
          "evalue": "ignored",
          "traceback": [
            "\u001b[0;31m---------------------------------------------------------------------------\u001b[0m",
            "\u001b[0;31mNameError\u001b[0m                                 Traceback (most recent call last)",
            "\u001b[0;32m<ipython-input-7-6ec16b014378>\u001b[0m in \u001b[0;36m<module>\u001b[0;34m()\u001b[0m\n\u001b[0;32m----> 1\u001b[0;31m \u001b[0mdf\u001b[0m\u001b[0;34m[\u001b[0m\u001b[0;34m'height'\u001b[0m\u001b[0;34m]\u001b[0m\u001b[0;34m.\u001b[0m\u001b[0mmean\u001b[0m\u001b[0;34m(\u001b[0m\u001b[0;34m)\u001b[0m\u001b[0;34m\u001b[0m\u001b[0;34m\u001b[0m\u001b[0m\n\u001b[0m",
            "\u001b[0;31mNameError\u001b[0m: name 'df' is not defined"
          ]
        }
      ]
    },
    {
      "cell_type": "markdown",
      "metadata": {
        "id": "3gX4sPrGNKwU"
      },
      "source": [
        "Полученные значения равны (отличается только количество знаков после запятой). Такая оценка математического ожидания называется несмещенной.\n",
        "\n",
        "Другим важным показателем выборки является **среднее квадратичное отклонение**. Оно показывает, насколько далеко наблюдения могут быть «разбросаны» относительно среднего значения.\n",
        "\n",
        "Вычислить его можно по формуле:"
      ]
    },
    {
      "cell_type": "markdown",
      "metadata": {
        "id": "JwStBGB4NKwX"
      },
      "source": [
        "$$\\sigma = \\sqrt{\\frac{\\sum\\limits_{i=1}^{n} (x_i - \\overline{x})^2}{n}}$$"
      ]
    },
    {
      "cell_type": "markdown",
      "metadata": {
        "id": "fu2lLu41NKwY"
      },
      "source": [
        "Посчитаем среднее квадратичное отклонение роста хоккеистов:"
      ]
    },
    {
      "cell_type": "code",
      "metadata": {
        "id": "-iwdVe-hNKwe",
        "colab": {
          "base_uri": "https://localhost:8080/",
          "height": 193
        },
        "outputId": "e52afbba-cb0a-4456-baef-8819c2d3f97c"
      },
      "source": [
        "height_std = np.sqrt(((df['height'] - df['height'].mean())**2).sum() / df['height'].count())\n",
        "height_std"
      ],
      "execution_count": null,
      "outputs": [
        {
          "output_type": "error",
          "ename": "NameError",
          "evalue": "ignored",
          "traceback": [
            "\u001b[0;31m---------------------------------------------------------------------------\u001b[0m",
            "\u001b[0;31mNameError\u001b[0m                                 Traceback (most recent call last)",
            "\u001b[0;32m<ipython-input-8-eb01b9d14613>\u001b[0m in \u001b[0;36m<module>\u001b[0;34m()\u001b[0m\n\u001b[0;32m----> 1\u001b[0;31m \u001b[0mheight_std\u001b[0m \u001b[0;34m=\u001b[0m \u001b[0mnp\u001b[0m\u001b[0;34m.\u001b[0m\u001b[0msqrt\u001b[0m\u001b[0;34m(\u001b[0m\u001b[0;34m(\u001b[0m\u001b[0;34m(\u001b[0m\u001b[0mdf\u001b[0m\u001b[0;34m[\u001b[0m\u001b[0;34m'height'\u001b[0m\u001b[0;34m]\u001b[0m \u001b[0;34m-\u001b[0m \u001b[0mdf\u001b[0m\u001b[0;34m[\u001b[0m\u001b[0;34m'height'\u001b[0m\u001b[0;34m]\u001b[0m\u001b[0;34m.\u001b[0m\u001b[0mmean\u001b[0m\u001b[0;34m(\u001b[0m\u001b[0;34m)\u001b[0m\u001b[0;34m)\u001b[0m\u001b[0;34m**\u001b[0m\u001b[0;36m2\u001b[0m\u001b[0;34m)\u001b[0m\u001b[0;34m.\u001b[0m\u001b[0msum\u001b[0m\u001b[0;34m(\u001b[0m\u001b[0;34m)\u001b[0m \u001b[0;34m/\u001b[0m \u001b[0mdf\u001b[0m\u001b[0;34m[\u001b[0m\u001b[0;34m'height'\u001b[0m\u001b[0;34m]\u001b[0m\u001b[0;34m.\u001b[0m\u001b[0mcount\u001b[0m\u001b[0;34m(\u001b[0m\u001b[0;34m)\u001b[0m\u001b[0;34m)\u001b[0m\u001b[0;34m\u001b[0m\u001b[0;34m\u001b[0m\u001b[0m\n\u001b[0m\u001b[1;32m      2\u001b[0m \u001b[0mheight_std\u001b[0m\u001b[0;34m\u001b[0m\u001b[0;34m\u001b[0m\u001b[0m\n",
            "\u001b[0;31mNameError\u001b[0m: name 'df' is not defined"
          ]
        }
      ]
    },
    {
      "cell_type": "markdown",
      "metadata": {
        "id": "PcpU5rPFNKwm"
      },
      "source": [
        "Посчитаем еще раз среднее квадратичное отклонение, но уже с помощью метода **std**:"
      ]
    },
    {
      "cell_type": "code",
      "metadata": {
        "id": "3FvEacT6NKwo",
        "colab": {
          "base_uri": "https://localhost:8080/",
          "height": 174
        },
        "outputId": "6ff7bcff-3da3-426c-d936-5f34b14186ca"
      },
      "source": [
        "df['height'].std(ddof=0)"
      ],
      "execution_count": null,
      "outputs": [
        {
          "output_type": "error",
          "ename": "NameError",
          "evalue": "ignored",
          "traceback": [
            "\u001b[0;31m---------------------------------------------------------------------------\u001b[0m",
            "\u001b[0;31mNameError\u001b[0m                                 Traceback (most recent call last)",
            "\u001b[0;32m<ipython-input-9-48ae69f0a1d5>\u001b[0m in \u001b[0;36m<module>\u001b[0;34m()\u001b[0m\n\u001b[0;32m----> 1\u001b[0;31m \u001b[0mdf\u001b[0m\u001b[0;34m[\u001b[0m\u001b[0;34m'height'\u001b[0m\u001b[0;34m]\u001b[0m\u001b[0;34m.\u001b[0m\u001b[0mstd\u001b[0m\u001b[0;34m(\u001b[0m\u001b[0mddof\u001b[0m\u001b[0;34m=\u001b[0m\u001b[0;36m0\u001b[0m\u001b[0;34m)\u001b[0m\u001b[0;34m\u001b[0m\u001b[0;34m\u001b[0m\u001b[0m\n\u001b[0m",
            "\u001b[0;31mNameError\u001b[0m: name 'df' is not defined"
          ]
        }
      ]
    },
    {
      "cell_type": "markdown",
      "metadata": {
        "id": "yzTtgYY0NKwz"
      },
      "source": [
        "**Дисперсия** равна среднему квадратичному отклонению, возведенному в квадрат:"
      ]
    },
    {
      "cell_type": "markdown",
      "metadata": {
        "id": "ymzeeF4QNKw1"
      },
      "source": [
        "$$\\sigma^2 = \\frac{\\sum\\limits_{i=1}^{n} (x_i - \\overline{x})^2}{n}$$"
      ]
    },
    {
      "cell_type": "markdown",
      "metadata": {
        "id": "XTwVZI76NKw3"
      },
      "source": [
        "Посчитаем дисперсию роста хоккеистов:"
      ]
    },
    {
      "cell_type": "code",
      "metadata": {
        "id": "jNZh3cbjNKw6"
      },
      "source": [
        "height_variance = ((df['height'] - df['height'].mean())**2).sum() / df['height'].count()\n",
        "height_variance"
      ],
      "execution_count": null,
      "outputs": []
    },
    {
      "cell_type": "markdown",
      "metadata": {
        "id": "fCHu_z21NKxG"
      },
      "source": [
        "Такая оценка дисперсии является **смещенной**. Следующая формула показывает, как вычисляется **несмещенная оценка дисперсии**:"
      ]
    },
    {
      "cell_type": "code",
      "metadata": {
        "id": "R5QhsEsSq0g6"
      },
      "source": [],
      "execution_count": null,
      "outputs": []
    },
    {
      "cell_type": "markdown",
      "metadata": {
        "id": "yeHRCSngNKxH"
      },
      "source": [
        "$$\\sigma^2_{несмещ.} = \\frac{\\sum\\limits_{i=1}^{n} (x_i - \\overline{x})^2}{n - 1}$$"
      ]
    },
    {
      "cell_type": "markdown",
      "metadata": {
        "id": "QTIjmFNyNKxM"
      },
      "source": [
        "Отличие несмещенной оценки дисперсии от смещенной в том, что мы делим сумму квадратов разностей всех величин со средним значением не на $n$, а на $n - 1$.\n",
        "\n",
        "Рассчитаем несмещенную дисперсию роста хоккеистов:"
      ]
    },
    {
      "cell_type": "code",
      "metadata": {
        "id": "WyB-XRAeNKxQ"
      },
      "source": [
        "height_variance2 = ((df['height'] - df['height'].mean())**2).sum() / (df['height'].count() - 1)\n",
        "height_variance2"
      ],
      "execution_count": null,
      "outputs": []
    },
    {
      "cell_type": "markdown",
      "metadata": {
        "id": "cscW2xopNKxi"
      },
      "source": [
        "С помощью метода **var** можно посчитать смещенную оценку дисперсии:"
      ]
    },
    {
      "cell_type": "code",
      "metadata": {
        "id": "RdNP_457NKxk"
      },
      "source": [
        "df['height'].var(ddof=0)"
      ],
      "execution_count": null,
      "outputs": []
    },
    {
      "cell_type": "markdown",
      "metadata": {
        "id": "TJ_GG2LDNKx0"
      },
      "source": [
        "Несмещенная считается аналогично:"
      ]
    },
    {
      "cell_type": "code",
      "metadata": {
        "id": "oLdDIWUaNKx2"
      },
      "source": [
        "df['height'].var(ddof=1)"
      ],
      "execution_count": null,
      "outputs": []
    },
    {
      "cell_type": "markdown",
      "metadata": {
        "id": "HGAvSJ_mNKx-"
      },
      "source": [
        "Аргумент **ddof** (Delta Degrees of Freedom) показывает, какую величину нужно отнять от числа наблюдений $n$, которое находится в формуле дисперсии в делителе."
      ]
    },
    {
      "cell_type": "markdown",
      "metadata": {
        "id": "NYuwpwm7NKx_"
      },
      "source": [
        "**Мода** — наиболее часто встречающееся в выборке значение. Для дискретных распределений модой считают любое значение $a_i$, вероятность которого $p_i$ больше, чем вероятности соседних значений.\n",
        "\n",
        "Если в выборке есть два и более значений, встречающихся с одинаковой (максимальной) вероятностью, то есть выборка имеет две и более мод, то ее называют **мультимодальной**.\n",
        "\n",
        "Модой абсолютно непрерывного распределения называют любую точку локального максимума плотности распределения."
      ]
    },
    {
      "cell_type": "markdown",
      "metadata": {
        "id": "4H1MmQ8sNKyD"
      },
      "source": [
        "**Медиана** — значение, которое делит выборку на две части так, что значения, которые меньше медианы, составляют половину (50 %) выборки. То есть половина значений выборки больше медианы, половина — не больше."
      ]
    },
    {
      "cell_type": "markdown",
      "metadata": {
        "id": "B228LLFLNKyG"
      },
      "source": [
        "**Первый квартиль** — значение, которое не превышают 25 % наблюдений в выборке."
      ]
    },
    {
      "cell_type": "markdown",
      "metadata": {
        "id": "e8ucNkrotErI"
      },
      "source": []
    },
    {
      "cell_type": "markdown",
      "metadata": {
        "id": "UARYcGAwNKyH"
      },
      "source": [
        "**Второй квартиль** — синоним медианы."
      ]
    },
    {
      "cell_type": "markdown",
      "metadata": {
        "id": "6BUr0mcaNKyJ"
      },
      "source": [
        "**Третий квартиль** — значение, которое не превышают 75 % наблюдений в выборке."
      ]
    },
    {
      "cell_type": "markdown",
      "metadata": {
        "id": "X7bErti9NKyM"
      },
      "source": [
        "**Квантиль** — похожее понятие, только в качестве точки может выступать любая величина от 0 до 100 %.\n",
        "\n",
        "Например, 40 % квантиль — значение, которое не превышают 40 % наблюдений."
      ]
    },
    {
      "cell_type": "markdown",
      "metadata": {
        "id": "arCPKh6VNKyT"
      },
      "source": [
        "**Перцентиль** — частный случай квантиля, в качестве меры берутся целые проценты.\n",
        "\n",
        "Например, 40 % квантиль — то же, что и 40 % перцентиль."
      ]
    },
    {
      "cell_type": "markdown",
      "metadata": {
        "id": "q67sZzakNKyU"
      },
      "source": [
        "**Дециль** — частный случай квантиля, в качестве меры берутся десятки процентов.\n",
        "\n",
        "Например, 70 % квантиль — это также и 7-й дециль."
      ]
    },
    {
      "cell_type": "markdown",
      "metadata": {
        "id": "lhcr7dkjNKyW"
      },
      "source": [
        "**Интерквартильное расстояние** — отрезок, равный разности 3-й и 1-й квартили."
      ]
    },
    {
      "cell_type": "markdown",
      "metadata": {
        "id": "PNmx54fYNKyY"
      },
      "source": [
        "##### Графическое представление данных"
      ]
    },
    {
      "cell_type": "markdown",
      "metadata": {
        "collapsed": true,
        "id": "gR9QSn4MNKya"
      },
      "source": [
        "Чтобы получить представление о распределении роста хоккеистов, построим гистограмму. По умолчанию данные разбиваются на 10 частей (аргумент **bins**). Высота столбиков соответствует количеству наблюдений в бине:"
      ]
    },
    {
      "cell_type": "code",
      "metadata": {
        "id": "iZHf2w0UNKyc"
      },
      "source": [
        "plt.hist(df['height'])\n",
        "plt.show()"
      ],
      "execution_count": null,
      "outputs": []
    },
    {
      "cell_type": "markdown",
      "metadata": {
        "collapsed": true,
        "id": "KwJ_RM31NKyo"
      },
      "source": [
        "Построим гистограмму еще раз, указав в качестве аргумента **bins** число 20, чтобы получить более детальную картину:"
      ]
    },
    {
      "cell_type": "code",
      "metadata": {
        "id": "kExdMvVdNKyp"
      },
      "source": [
        "plt.hist(df['height'], bins = 20)\n",
        "plt.show()"
      ],
      "execution_count": null,
      "outputs": []
    },
    {
      "cell_type": "markdown",
      "metadata": {
        "collapsed": true,
        "id": "2P5DpOZTNKyw"
      },
      "source": [
        "Другой способ графически представить данные — построить диаграмму **boxplot**. Для этого импортируем библиотеку **seaborn**:"
      ]
    },
    {
      "cell_type": "code",
      "metadata": {
        "id": "7xl_WqYGNKy0"
      },
      "source": [
        "import seaborn as sns"
      ],
      "execution_count": null,
      "outputs": []
    },
    {
      "cell_type": "code",
      "metadata": {
        "id": "K8Xx4JX-NKy6"
      },
      "source": [
        "sns.boxplot(df['height'], orient='v')\n",
        "plt.show()"
      ],
      "execution_count": null,
      "outputs": []
    },
    {
      "cell_type": "markdown",
      "metadata": {
        "collapsed": true,
        "id": "rr6BpnOFNKzB"
      },
      "source": [
        "На данном графике показатели роста располагаются по вертикали. Черта в середине прямоугольника обозначает медиану, его нижняя сторона — 1-й квартиль, а верхняя — 3-й квартиль."
      ]
    },
    {
      "cell_type": "markdown",
      "metadata": {
        "collapsed": true,
        "id": "NRDf8FSYNKzH"
      },
      "source": [
        "От прямоугольника вверх и вниз отходят «усики». Черта на конце нижнего усика отстоит от 1-го квартиля на 1.5 интерквартильных расстояния, а на конце верхнего — на 1.5 интерквартильных расстояния от 3-го квартиля."
      ]
    },
    {
      "cell_type": "markdown",
      "metadata": {
        "collapsed": true,
        "id": "n1ZeOMTfNKzJ"
      },
      "source": [
        "Точки, находящиеся за их пределами, обозначают выбросы в данных — нетипичные наблюдения, которые могут быть и ошибками."
      ]
    },
    {
      "cell_type": "markdown",
      "metadata": {
        "id": "uP1szCyZvKe2"
      },
      "source": [
        "# <center>Практическое задание <a class=\"anchor\" id=\"ex\"></a><center>"
      ]
    },
    {
      "cell_type": "code",
      "metadata": {
        "id": "z6fLNt5P1pet"
      },
      "source": [
        "from sympy import *\n",
        "import numpy as np\n",
        "from math import factorial as fac\n",
        "\n",
        "def combinations(n, k):\n",
        "    return int(fac(n) / (fac(k) * fac(n - k)))"
      ],
      "execution_count": null,
      "outputs": []
    },
    {
      "cell_type": "markdown",
      "metadata": {
        "id": "B9eGZsSa2ad2"
      },
      "source": [
        "Среднее арифметическое $$M(X) = \\frac{1}{n} \\sum\\limits_{i=1}^{n} x_i$$"
      ]
    },
    {
      "cell_type": "markdown",
      "metadata": {
        "id": "OugN8vCv2elr"
      },
      "source": [
        "Среднее квадратичное отклонение $$\\sigma = \\sqrt{\\frac{\\sum\\limits_{i=1}^{n}  (x_i - \\overline{x})^2}{n}}$$"
      ]
    },
    {
      "cell_type": "markdown",
      "metadata": {
        "id": "bQeNfGk72exy"
      },
      "source": [
        "Дисперсия (смещенная) $$\\sigma^2 = \\frac{\\sum\\limits_{i=1}^{n} (x_i - \\overline{x})^2}{n}$$"
      ]
    },
    {
      "cell_type": "markdown",
      "metadata": {
        "id": "hNWZdgdjT7JF"
      },
      "source": [
        "Дисперсия несмещенная $$\\sigma^2_{несмещ.} = \\frac{\\sum\\limits_{i=1}^{n} (x_i - \\overline{x})^2}{n - 1}$$"
      ]
    },
    {
      "cell_type": "markdown",
      "metadata": {
        "id": "S2q85q6svPeV"
      },
      "source": [
        "### Задание 1 <a class=\"anchor\" id=\"ex1\"></a>"
      ]
    },
    {
      "cell_type": "markdown",
      "metadata": {
        "id": "AFz0K0T2vTwO"
      },
      "source": [
        "Даны значения зарплат из выборки выпускников: 100, 80, 75, 77, 89, 33, 45, 25, 65, 17, 30, 24, 57, 55, 70, 75, 65, 84, 90, 150. Посчитать (желательно без использования статистических методов наподобие std, var, mean) среднее арифметическое, среднее квадратичное отклонение, смещенную и несмещенную оценки дисперсий для данной выборки."
      ]
    },
    {
      "cell_type": "markdown",
      "metadata": {
        "id": "WDXRmAw-lrCw"
      },
      "source": [
        "### Решение"
      ]
    },
    {
      "cell_type": "code",
      "metadata": {
        "colab": {
          "base_uri": "https://localhost:8080/"
        },
        "id": "IkzhbYvU1LlY",
        "outputId": "6f9696a0-c68b-4223-d8c9-9e21e3a17efb"
      },
      "source": [
        "sal = np.array([100, 80, 75, 77, 89, 33, 45, 25, 65, 17, 30, 24, 57, 55, 70, 75, 65, 84, 90, 150])\n",
        "\n",
        "# среднее арифметическое\n",
        "mean_sal = sum(sal)/len(sal)\n",
        "print('Среднее арифметическое - ', mean_sal, '\\nПроверка ср.арифм. -     ', np.mean(sal), '\\n ')\n",
        "\n",
        "# среднее квадратичное отклонение\n",
        "std_sal = np.sqrt(((sal - mean_sal) ** 2).sum() / len(sal))\n",
        "print('Среднее квадратичное отклонение -  ' , std_sal, '\\nПроверка среднее квадр. отклонее - ', sal.std(ddof=False), '\\n ')\n",
        "\n",
        "# смещённая оценка\n",
        "variance1_sal = ((sal - mean_sal)**2).sum() / len(sal)\n",
        "print('Диспрессия смещенная -      ' , variance1_sal, '\\nПроверка диспр. смещенная - ', sal.var(ddof=False), '\\n ')\n",
        "\n",
        "# несмещённая оценка дисперси\n",
        "variance2_sal = ((sal - mean_sal)**2).sum() / (len(sal)-1)\n",
        "print('Диспрессия несмещенная -     ' , variance2_sal, '\\nПроверка дисп. несмещенная - ', sal.var(ddof=True))"
      ],
      "execution_count": null,
      "outputs": [
        {
          "output_type": "error",
          "ename": "NameError",
          "evalue": "ignored",
          "traceback": [
            "\u001b[0;31m---------------------------------------------------------------------------\u001b[0m",
            "\u001b[0;31mNameError\u001b[0m                                 Traceback (most recent call last)",
            "\u001b[0;32m<ipython-input-1-a489c48b7e4a>\u001b[0m in \u001b[0;36m<module>\u001b[0;34m()\u001b[0m\n\u001b[0;32m----> 1\u001b[0;31m \u001b[0msal\u001b[0m \u001b[0;34m=\u001b[0m \u001b[0mnp\u001b[0m\u001b[0;34m.\u001b[0m\u001b[0marray\u001b[0m\u001b[0;34m(\u001b[0m\u001b[0;34m[\u001b[0m\u001b[0;36m100\u001b[0m\u001b[0;34m,\u001b[0m \u001b[0;36m80\u001b[0m\u001b[0;34m,\u001b[0m \u001b[0;36m75\u001b[0m\u001b[0;34m,\u001b[0m \u001b[0;36m77\u001b[0m\u001b[0;34m,\u001b[0m \u001b[0;36m89\u001b[0m\u001b[0;34m,\u001b[0m \u001b[0;36m33\u001b[0m\u001b[0;34m,\u001b[0m \u001b[0;36m45\u001b[0m\u001b[0;34m,\u001b[0m \u001b[0;36m25\u001b[0m\u001b[0;34m,\u001b[0m \u001b[0;36m65\u001b[0m\u001b[0;34m,\u001b[0m \u001b[0;36m17\u001b[0m\u001b[0;34m,\u001b[0m \u001b[0;36m30\u001b[0m\u001b[0;34m,\u001b[0m \u001b[0;36m24\u001b[0m\u001b[0;34m,\u001b[0m \u001b[0;36m57\u001b[0m\u001b[0;34m,\u001b[0m \u001b[0;36m55\u001b[0m\u001b[0;34m,\u001b[0m \u001b[0;36m70\u001b[0m\u001b[0;34m,\u001b[0m \u001b[0;36m75\u001b[0m\u001b[0;34m,\u001b[0m \u001b[0;36m65\u001b[0m\u001b[0;34m,\u001b[0m \u001b[0;36m84\u001b[0m\u001b[0;34m,\u001b[0m \u001b[0;36m90\u001b[0m\u001b[0;34m,\u001b[0m \u001b[0;36m150\u001b[0m\u001b[0;34m]\u001b[0m\u001b[0;34m)\u001b[0m\u001b[0;34m\u001b[0m\u001b[0;34m\u001b[0m\u001b[0m\n\u001b[0m\u001b[1;32m      2\u001b[0m \u001b[0;34m\u001b[0m\u001b[0m\n\u001b[1;32m      3\u001b[0m \u001b[0;31m# среднее арифметическое\u001b[0m\u001b[0;34m\u001b[0m\u001b[0;34m\u001b[0m\u001b[0;34m\u001b[0m\u001b[0m\n\u001b[1;32m      4\u001b[0m \u001b[0mmean_sal\u001b[0m \u001b[0;34m=\u001b[0m \u001b[0msum\u001b[0m\u001b[0;34m(\u001b[0m\u001b[0msal\u001b[0m\u001b[0;34m)\u001b[0m\u001b[0;34m/\u001b[0m\u001b[0mlen\u001b[0m\u001b[0;34m(\u001b[0m\u001b[0msal\u001b[0m\u001b[0;34m)\u001b[0m\u001b[0;34m\u001b[0m\u001b[0;34m\u001b[0m\u001b[0m\n\u001b[1;32m      5\u001b[0m \u001b[0mprint\u001b[0m\u001b[0;34m(\u001b[0m\u001b[0;34m'Среднее арифметическое - '\u001b[0m\u001b[0;34m,\u001b[0m \u001b[0mmean_sal\u001b[0m\u001b[0;34m,\u001b[0m \u001b[0;34m'\\nПроверка ср.арифм. -     '\u001b[0m\u001b[0;34m,\u001b[0m \u001b[0mnp\u001b[0m\u001b[0;34m.\u001b[0m\u001b[0mmean\u001b[0m\u001b[0;34m(\u001b[0m\u001b[0msal\u001b[0m\u001b[0;34m)\u001b[0m\u001b[0;34m,\u001b[0m \u001b[0;34m'\\n '\u001b[0m\u001b[0;34m)\u001b[0m\u001b[0;34m\u001b[0m\u001b[0;34m\u001b[0m\u001b[0m\n",
            "\u001b[0;31mNameError\u001b[0m: name 'np' is not defined"
          ]
        }
      ]
    },
    {
      "cell_type": "markdown",
      "metadata": {
        "id": "WIgIA_NyvbY2"
      },
      "source": [
        "### Задание 2 <a class=\"anchor\" id=\"ex2\"></a>"
      ]
    },
    {
      "cell_type": "markdown",
      "metadata": {
        "id": "xSuH5eFMvcJE"
      },
      "source": [
        "В первом ящике находится 8 мячей, из которых 5 - белые. Во втором ящике - 12 мячей, из которых 5 белых. Из первого ящика вытаскивают случайным образом два мяча, из второго - 4. Какова вероятность того, что 3 мяча белые?"
      ]
    },
    {
      "cell_type": "markdown",
      "metadata": {
        "id": "zE4-OtAtlxAA"
      },
      "source": [
        "### Решение"
      ]
    },
    {
      "cell_type": "markdown",
      "metadata": {
        "id": "v-ZLu4-Bn-CE"
      },
      "source": [
        "Приведем три варианта:\n",
        "\n",
        "* 2 белых из первого ящика и 1 из второго\n",
        "\n",
        "* 1 белых из первого ящика и 2 из второго\n",
        "\n",
        "* 0 белых из первого ящика и 3 из второго\n"
      ]
    },
    {
      "cell_type": "code",
      "metadata": {
        "colab": {
          "base_uri": "https://localhost:8080/"
        },
        "id": "0ZmZkAntYOwT",
        "outputId": "229878d9-1016-45ba-9e4e-a689ba711d40"
      },
      "source": [
        "P_21 = combinations(5,2)/combinations(8,2)\n",
        "print('P(2_1) Вероятность вытащить два белых мяча из 1 ящика - ', P_21)\n",
        "P_11 = combinations(5,1)*combinations(3,1)/combinations(8,2)\n",
        "print('P(1_1) Вероятность вытащить один белый мяч из 1 ящика - ', P_11)\n",
        "P_01 = combinations(3,2)/combinations(8,2)\n",
        "print('P(0_1) Вероятность вытащить два черных из 1 ящика - ', P_01)\n",
        "P_22 = combinations(5,2)*combinations(7,2)/combinations(12,4)\n",
        "print('P(2_2) Вероятность вытащить два белых мяча из 2 ящика - ', P_22)\n",
        "P_12 = combinations(5,1)*combinations(7,3)/combinations(12,4)\n",
        "print('P(1_2) Вероятность вытащить один белый мяч из 2 ящика - ', P_21)\n",
        "P_32 = combinations(5,3)*combinations(7,1)/combinations(12,4)\n",
        "print('P(3_2) Вероятность вытащить три белых мяча из 2 ящика - ', P_32)\n",
        "\n",
        "print('Вероятность того, что три мяча белые - P(2_1)*P(1_2) + P(1_1)*P(2_2) + P(0_1)*P(3_2) - ', P_21*P_12 + P_11*P_22 + P_01*P_32)"
      ],
      "execution_count": null,
      "outputs": [
        {
          "output_type": "stream",
          "text": [
            "P(2_1) Вероятность вытащить два белых мяча из 1 ящика -  0.35714285714285715\n",
            "P(1_1) Вероятность вытащить один белый мяч из 1 ящика -  0.5357142857142857\n",
            "P(0_1) Вероятность вытащить два черных из 1 ящика -  0.10714285714285714\n",
            "P(2_2) Вероятность вытащить два белых мяча из 2 ящика -  0.42424242424242425\n",
            "P(1_2) Вероятность вытащить один белый мяч из 2 ящика -  0.35714285714285715\n",
            "P(3_2) Вероятность вытащить три белых мяча из 2 ящика -  0.1414141414141414\n",
            "Вероятность того, что три мяча белые - P(2_1)*P(1_2) + P(1_1)*P(2_2) + P(0_1)*P(3_2) -  0.3686868686868687\n"
          ],
          "name": "stdout"
        }
      ]
    },
    {
      "cell_type": "markdown",
      "metadata": {
        "id": "T3nMxrrLvcXS"
      },
      "source": [
        "### Задание 3 <a class=\"anchor\" id=\"ex3\"></a>"
      ]
    },
    {
      "cell_type": "markdown",
      "metadata": {
        "id": "Fb98bRMavcfY"
      },
      "source": [
        "На соревновании по биатлону один из трех спортсменов стреляет и попадает в мишень. Вероятность попадания для первого спортсмена равна 0.9, для второго — 0.8, для третьего — 0.6. Найти вероятность того, что выстрел произведен:\n",
        "\n",
        "a). первым спортсменом\n",
        "\n",
        "б). вторым спортсменом\n",
        "\n",
        "в). третьим спортсменом."
      ]
    },
    {
      "cell_type": "markdown",
      "metadata": {
        "id": "s7m-a4oSlyQz"
      },
      "source": [
        "### Решение"
      ]
    },
    {
      "cell_type": "code",
      "metadata": {
        "colab": {
          "base_uri": "https://localhost:8080/"
        },
        "id": "um-AgtFTepOw",
        "outputId": "33472e8a-6191-4e39-9921-c1b56818e1c9"
      },
      "source": [
        "P = 0.9/3 + 0.8/3 + 0.6/3\n",
        "P"
      ],
      "execution_count": null,
      "outputs": [
        {
          "output_type": "execute_result",
          "data": {
            "text/plain": [
              "0.7666666666666666"
            ]
          },
          "metadata": {
            "tags": []
          },
          "execution_count": 4
        }
      ]
    },
    {
      "cell_type": "markdown",
      "metadata": {
        "id": "g_LF5zoFsnvt"
      },
      "source": []
    },
    {
      "cell_type": "markdown",
      "metadata": {
        "id": "Ea8gmXyT2VdB"
      },
      "source": [
        "a). первым спортсменом"
      ]
    },
    {
      "cell_type": "code",
      "metadata": {
        "colab": {
          "base_uri": "https://localhost:8080/"
        },
        "id": "L-OotdaInf4u",
        "outputId": "9109328f-e6e1-4e72-c38d-a3da2487dfcf"
      },
      "source": [
        "P_1 = 0.9 / 3 / P\n",
        "P_1"
      ],
      "execution_count": null,
      "outputs": [
        {
          "output_type": "execute_result",
          "data": {
            "text/plain": [
              "0.391304347826087"
            ]
          },
          "metadata": {
            "tags": []
          },
          "execution_count": 5
        }
      ]
    },
    {
      "cell_type": "markdown",
      "metadata": {
        "id": "W5z94Mzy2ZjQ"
      },
      "source": [
        "б). вторым спортсменом"
      ]
    },
    {
      "cell_type": "code",
      "metadata": {
        "id": "D7L0m3A4niUa",
        "colab": {
          "base_uri": "https://localhost:8080/"
        },
        "outputId": "ff1ad992-e071-433c-d9aa-2c20d3bbd67b"
      },
      "source": [
        "P_2 = 0.8 / 3 / P\n",
        "P_2"
      ],
      "execution_count": null,
      "outputs": [
        {
          "output_type": "execute_result",
          "data": {
            "text/plain": [
              "0.3478260869565218"
            ]
          },
          "metadata": {
            "tags": []
          },
          "execution_count": 6
        }
      ]
    },
    {
      "cell_type": "markdown",
      "metadata": {
        "id": "Nj0XFk6J2fDl"
      },
      "source": [
        "в). третьим спортсменом."
      ]
    },
    {
      "cell_type": "code",
      "metadata": {
        "colab": {
          "base_uri": "https://localhost:8080/"
        },
        "id": "LUtLOuLS2iFE",
        "outputId": "bc2f2528-3001-47c4-b746-4d968cc42de0"
      },
      "source": [
        "P_3 = 0.6 / 3 / P\n",
        "P_3"
      ],
      "execution_count": null,
      "outputs": [
        {
          "output_type": "execute_result",
          "data": {
            "text/plain": [
              "0.2608695652173913"
            ]
          },
          "metadata": {
            "tags": []
          },
          "execution_count": 7
        }
      ]
    },
    {
      "cell_type": "markdown",
      "metadata": {
        "id": "BCx4SR-AuigK"
      },
      "source": [
        "Проверка"
      ]
    },
    {
      "cell_type": "code",
      "metadata": {
        "colab": {
          "base_uri": "https://localhost:8080/"
        },
        "id": "8BsIIqTyt7UY",
        "outputId": "7838dabd-9740-4a15-f6dd-6c2e4019ae16"
      },
      "source": [
        "P_p = P_1+P_2+P_3\n",
        "P_p"
      ],
      "execution_count": null,
      "outputs": [
        {
          "output_type": "execute_result",
          "data": {
            "text/plain": [
              "1.0"
            ]
          },
          "metadata": {
            "tags": []
          },
          "execution_count": 8
        }
      ]
    },
    {
      "cell_type": "markdown",
      "metadata": {
        "id": "tcjWG8CQvcm8"
      },
      "source": [
        "### Задание 4 <a class=\"anchor\" id=\"ex4\"></a>"
      ]
    },
    {
      "cell_type": "markdown",
      "metadata": {
        "id": "wFDtz-6pvcuR"
      },
      "source": [
        "В университет на факультеты A и B поступило равное количество студентов, а на факультет C студентов поступило столько же, сколько на A и B вместе. Вероятность того, что студент факультета A сдаст первую сессию, равна 0.8. Для студента факультета B эта вероятность равна 0.7, а для студента факультета C - 0.9. Студент сдал первую сессию. Какова вероятность, что он учится:\n",
        "\n",
        "a). на факультете A\n",
        "\n",
        "б). на факультете B\n",
        "\n",
        "в). на факультете C?"
      ]
    },
    {
      "cell_type": "markdown",
      "metadata": {
        "id": "7iU5Ygbpl0fE"
      },
      "source": [
        "### Решение"
      ]
    },
    {
      "cell_type": "markdown",
      "metadata": {
        "id": "nqw6VQl2pnSh"
      },
      "source": [
        "Вероятность того, что сдатут все студенты:\n",
        "\n",
        "$$P = P(A) \\cdot P(A_a) + P(B) \\cdot P(B_b) + P(C) \\cdot (C_c) $$\n"
      ]
    },
    {
      "cell_type": "code",
      "metadata": {
        "id": "JhA7_BlM1u37",
        "colab": {
          "base_uri": "https://localhost:8080/"
        },
        "outputId": "8f30bac0-01bc-4d44-dd45-d4c9c9ca91aa"
      },
      "source": [
        "P = 0.8/4 + 0.7/4 + 0.9/2\n",
        "P"
      ],
      "execution_count": null,
      "outputs": [
        {
          "output_type": "execute_result",
          "data": {
            "text/plain": [
              "0.825"
            ]
          },
          "metadata": {
            "tags": []
          },
          "execution_count": 9
        }
      ]
    },
    {
      "cell_type": "markdown",
      "metadata": {
        "id": "vtJQz-pX1nrt"
      },
      "source": [
        "a). на факультете A"
      ]
    },
    {
      "cell_type": "code",
      "metadata": {
        "colab": {
          "base_uri": "https://localhost:8080/"
        },
        "id": "guv2R2dU2Add",
        "outputId": "6f4d78f4-f522-4bac-f8ee-3895081deab9"
      },
      "source": [
        "P_1 = 0.8/4 / P\n",
        "P_1"
      ],
      "execution_count": null,
      "outputs": [
        {
          "output_type": "execute_result",
          "data": {
            "text/plain": [
              "0.24242424242424246"
            ]
          },
          "metadata": {
            "tags": []
          },
          "execution_count": 10
        }
      ]
    },
    {
      "cell_type": "markdown",
      "metadata": {
        "id": "Wbb-g0Qx1n2r"
      },
      "source": [
        "б). на факультете B"
      ]
    },
    {
      "cell_type": "code",
      "metadata": {
        "colab": {
          "base_uri": "https://localhost:8080/"
        },
        "id": "NB7bTzDE2Cvv",
        "outputId": "71ca7a17-8488-4833-8845-247a1a4735b7"
      },
      "source": [
        "P_2 = 0.7/4 / P\n",
        "P_2"
      ],
      "execution_count": null,
      "outputs": [
        {
          "output_type": "execute_result",
          "data": {
            "text/plain": [
              "0.21212121212121213"
            ]
          },
          "metadata": {
            "tags": []
          },
          "execution_count": 11
        }
      ]
    },
    {
      "cell_type": "markdown",
      "metadata": {
        "id": "PQmxzHmd1n9l"
      },
      "source": [
        "в). на факультете C?"
      ]
    },
    {
      "cell_type": "code",
      "metadata": {
        "colab": {
          "base_uri": "https://localhost:8080/"
        },
        "id": "1Bixtl6g2IB-",
        "outputId": "1ab062e1-d811-4f9f-b9ab-f7ac16261f56"
      },
      "source": [
        "P_3 = 0.9/2 / P\n",
        "P_3"
      ],
      "execution_count": null,
      "outputs": [
        {
          "output_type": "execute_result",
          "data": {
            "text/plain": [
              "0.5454545454545455"
            ]
          },
          "metadata": {
            "tags": []
          },
          "execution_count": 12
        }
      ]
    },
    {
      "cell_type": "markdown",
      "metadata": {
        "id": "AlQMSw5Rr5d8"
      },
      "source": [
        "Проверка:"
      ]
    },
    {
      "cell_type": "code",
      "metadata": {
        "colab": {
          "base_uri": "https://localhost:8080/"
        },
        "id": "Ltv8mNg1r_L_",
        "outputId": "2d43750e-b321-407d-ba5f-15f7c400e866"
      },
      "source": [
        "P_p = P_1+P_2+P_3\n",
        "P_p"
      ],
      "execution_count": null,
      "outputs": [
        {
          "output_type": "execute_result",
          "data": {
            "text/plain": [
              "1.0"
            ]
          },
          "metadata": {
            "tags": []
          },
          "execution_count": 13
        }
      ]
    },
    {
      "cell_type": "markdown",
      "metadata": {
        "id": "k5lZ6FOavczJ"
      },
      "source": [
        "### Задание 5 <a class=\"anchor\" id=\"ex5\"></a>"
      ]
    },
    {
      "cell_type": "markdown",
      "metadata": {
        "id": "semhp5EcwMBM"
      },
      "source": [
        "Устройство состоит из трех деталей. Для первой детали вероятность выйти из строя в первый месяц равна 0.1, для второй - 0.2, для третьей - 0.25. Какова вероятность того, что в первый месяц выйдут из строя:\n",
        "\n",
        "а). все детали\n",
        "\n",
        "б). только две детали\n",
        "\n",
        "в). хотя бы одна деталь\n",
        "\n",
        "г). от одной до двух деталей?"
      ]
    },
    {
      "cell_type": "markdown",
      "metadata": {
        "id": "t16q2baPl1rl"
      },
      "source": [
        "### Решение"
      ]
    },
    {
      "cell_type": "markdown",
      "metadata": {
        "id": "-0sNqICYsJnP"
      },
      "source": [
        "# Новый раздел"
      ]
    },
    {
      "cell_type": "markdown",
      "metadata": {
        "id": "E0uZcjO10yAh"
      },
      "source": [
        "a) Все детали"
      ]
    },
    {
      "cell_type": "code",
      "metadata": {
        "colab": {
          "base_uri": "https://localhost:8080/"
        },
        "id": "f4DCvZ2Y0pwr",
        "outputId": "e94b20d4-a686-4987-acfd-7a4733d221a5"
      },
      "source": [
        "P_a = 0.1 * 0.2 * 0.25\n",
        "P_a"
      ],
      "execution_count": null,
      "outputs": [
        {
          "output_type": "execute_result",
          "data": {
            "text/plain": [
              "0.005000000000000001"
            ]
          },
          "metadata": {
            "tags": []
          },
          "execution_count": 14
        }
      ]
    },
    {
      "cell_type": "markdown",
      "metadata": {
        "id": "JEkKGJFL02g9"
      },
      "source": [
        "б). только две детали\n",
        "\n"
      ]
    },
    {
      "cell_type": "markdown",
      "metadata": {
        "id": "vJrf35lY1Ajk"
      },
      "source": [
        "Рассмотрим 3 варианта:\n",
        "\n",
        "1) 110\n",
        "\n",
        "2) 101\n",
        "\n",
        "3) 011\n"
      ]
    },
    {
      "cell_type": "code",
      "metadata": {
        "colab": {
          "base_uri": "https://localhost:8080/"
        },
        "id": "pLMgss0w0wvD",
        "outputId": "73bd3f82-79e3-405a-df15-dc83c1f21712"
      },
      "source": [
        "0.1*0.2*(1-0.25) + 0.1*(1-0.2)*0.25 + (1-0.1)*0.2*0.25"
      ],
      "execution_count": null,
      "outputs": [
        {
          "output_type": "execute_result",
          "data": {
            "text/plain": [
              "0.08000000000000002"
            ]
          },
          "metadata": {
            "tags": []
          },
          "execution_count": 15
        }
      ]
    },
    {
      "cell_type": "markdown",
      "metadata": {
        "id": "Fa0jWTVk1KOf"
      },
      "source": [
        "в). хотя бы одна деталь"
      ]
    },
    {
      "cell_type": "code",
      "metadata": {
        "colab": {
          "base_uri": "https://localhost:8080/"
        },
        "id": "SOLmgW3t0_cq",
        "outputId": "b2030914-7fab-40db-d294-14e50c93afab"
      },
      "source": [
        "1-((1-0.25)*(1-0.2)*(1-0.1))"
      ],
      "execution_count": null,
      "outputs": [
        {
          "output_type": "execute_result",
          "data": {
            "text/plain": [
              "0.45999999999999985"
            ]
          },
          "metadata": {
            "tags": []
          },
          "execution_count": 16
        }
      ]
    },
    {
      "cell_type": "markdown",
      "metadata": {
        "id": "0hJ6qSQd1T6-"
      },
      "source": [
        "г). от одной до двух деталей?"
      ]
    },
    {
      "cell_type": "markdown",
      "metadata": {
        "id": "OP6KKi1g1eG0"
      },
      "source": [
        "К случаю б) добавляется еще 3 случая: 100 010 001"
      ]
    },
    {
      "cell_type": "code",
      "metadata": {
        "colab": {
          "base_uri": "https://localhost:8080/"
        },
        "id": "5kheIBud1Sr9",
        "outputId": "b06329b5-b0ed-4ca4-ad02-a5f52f8eed61"
      },
      "source": [
        "0.1*(1-0.2)*(1-0.25) + (1-0.1)*0.2*(1-0.25) + (1-0.1)*(1-0.2)*0.25 + 0.1*0.2*(1-0.25) + 0.1*(1-0.2)*0.25 + (1-0.1)*0.2*0.25"
      ],
      "execution_count": null,
      "outputs": [
        {
          "output_type": "execute_result",
          "data": {
            "text/plain": [
              "0.455"
            ]
          },
          "metadata": {
            "tags": []
          },
          "execution_count": 17
        }
      ]
    }
  ]
}
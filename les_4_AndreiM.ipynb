{
  "nbformat": 4,
  "nbformat_minor": 0,
  "metadata": {
    "colab": {
      "provenance": []
    },
    "kernelspec": {
      "display_name": "Python 3",
      "language": "python",
      "name": "python3"
    }
  },
  "cells": [
    {
      "cell_type": "markdown",
      "metadata": {
        "id": "BtMkTMxui6Ut"
      },
      "source": [
        "## Урок 4 ДЗ (04.03.2021)"
      ]
    },
    {
      "cell_type": "markdown",
      "metadata": {
        "id": "iMF6zRZ0iLnj"
      },
      "source": [
        "* [Теория](#theor)\n",
        "* [Практическое задание. ДЗ.](#ex)\n",
        "    * [Задание 1](#ex1)\n",
        "    * [Задание 2](#ex2)\n",
        "    * [Задание 3](#ex3)\n",
        "    * [Задание 4](#ex4)\n",
        "    * [Задание 5](#ex5)"
      ]
    },
    {
      "cell_type": "markdown",
      "metadata": {
        "id": "0NxS1PDSiRr9"
      },
      "source": [
        "# <center>Теория <a class=\"anchor\" id=\"theor\"></a><center>"
      ]
    },
    {
      "cell_type": "markdown",
      "metadata": {
        "id": "C8EP-7Wui6Ux"
      },
      "source": [
        "### Непрерывные случайные величины.\n",
        "\n",
        "### Функция распределения и плотность распределения вероятностей.\n",
        "\n",
        "### Равномерное и нормальное распределение. Центральная предельная теорема"
      ]
    },
    {
      "cell_type": "markdown",
      "metadata": {
        "collapsed": true,
        "id": "XvDR0Waai6U0"
      },
      "source": [
        "**Непрерывная случайная величина** может принимать все возможные значения, содержащиеся на промежутке, который может быть как конечным (ограниченным), так и бесконечным."
      ]
    },
    {
      "cell_type": "markdown",
      "metadata": {
        "collapsed": true,
        "id": "XZORR920i6U1"
      },
      "source": [
        "**Функция распределения вероятностей** — это функция $F(x)$, которая для каждого значения $x$ показывает, какова вероятность того, что случайная величина меньше $x$."
      ]
    },
    {
      "cell_type": "markdown",
      "metadata": {
        "collapsed": true,
        "id": "TtpMrj88i6U4"
      },
      "source": [
        "**Плотность распределения вероятностей** — это функция $f(x)$, которая равна производной функции распределения вероятностей:"
      ]
    },
    {
      "cell_type": "markdown",
      "metadata": {
        "collapsed": true,
        "id": "pQAJZJ20i6U6"
      },
      "source": [
        "$$f(x) = F'(x)$$"
      ]
    },
    {
      "cell_type": "markdown",
      "metadata": {
        "collapsed": true,
        "id": "CSl1_uN-i6U7"
      },
      "source": [
        "#### Равномерное распределение"
      ]
    },
    {
      "cell_type": "markdown",
      "metadata": {
        "collapsed": true,
        "id": "3le34dnIi6U_"
      },
      "source": [
        "Распределение вероятностей случайной величины $X$ в зависимости от плотности:"
      ]
    },
    {
      "cell_type": "markdown",
      "metadata": {
        "id": "yumUBW2Oi6VB"
      },
      "source": [
        "$$f(x) = \\begin{cases} 0, если \\; x \\le a; \\\\ \\frac{1}{b - a}, если \\; a < x \\le b; \\\\ 0, \\; если \\; x > b. \\end{cases}$$"
      ]
    },
    {
      "cell_type": "markdown",
      "metadata": {
        "id": "33P919A0i6VG"
      },
      "source": [
        "Математическое ожидание $M(X)$ равномерно распределенной непрерывной случайной величины можно вычислить по формуле:"
      ]
    },
    {
      "cell_type": "markdown",
      "metadata": {
        "id": "RAd-f2e-i6VH"
      },
      "source": [
        "$$M(X) = \\frac{a + b}{2}$$"
      ]
    },
    {
      "cell_type": "markdown",
      "metadata": {
        "id": "Fhn0ToAfi6VJ"
      },
      "source": [
        "По следующей формуле можно рассчитать дисперсию $D(X)$:"
      ]
    },
    {
      "cell_type": "markdown",
      "metadata": {
        "id": "zbBdqRj0i6VL"
      },
      "source": [
        "\n",
        "$$D(X) = \\frac{(b - a)^2}{12}$$"
      ]
    },
    {
      "cell_type": "markdown",
      "metadata": {
        "id": "LAg5Zitzi6VN"
      },
      "source": [
        "Посмотрим на график плотности равномерного распределения:"
      ]
    },
    {
      "cell_type": "markdown",
      "metadata": {
        "id": "fnLAGtKNi6VP"
      },
      "source": [
        "<img src='https://ru.files.fm/thumb_show.php?i=4whssuky&view' width=500>Рис. 1 График плотности равномерного распределения</img>"
      ]
    },
    {
      "cell_type": "markdown",
      "metadata": {
        "id": "cnqnQDKVi6VR"
      },
      "source": [
        "График функции равномерного распределения:"
      ]
    },
    {
      "cell_type": "markdown",
      "metadata": {
        "id": "oyQNoEwCi6VT"
      },
      "source": [
        "<img src='https://ru.files.fm/thumb_show.php?i=fwy7dghu&view' width=500>Рис. 2 График функции равномерного распределения</img>"
      ]
    },
    {
      "cell_type": "markdown",
      "metadata": {
        "id": "KPY3CoKRi6VV"
      },
      "source": [
        "#### Нормальное распределение"
      ]
    },
    {
      "cell_type": "markdown",
      "metadata": {
        "id": "jbWKmxOBi6VX"
      },
      "source": [
        "Нормальное распределение — это распределение вероятностей непрерывной случайной величины $X$, плотность вероятности которой подчиняется формуле:"
      ]
    },
    {
      "cell_type": "markdown",
      "metadata": {
        "id": "lqTqlCDai6VZ"
      },
      "source": [
        "$$f(x) = \\frac{1}{\\sigma \\sqrt{2 \\pi}} e ^ {- \\frac{(x - a)^2}{2 \\sigma^2}},$$\n",
        "\n",
        "---\n",
        "\n"
      ]
    },
    {
      "cell_type": "markdown",
      "metadata": {
        "id": "gHiRniuYi6Vb"
      },
      "source": [
        "где $a = M(X), \\; \\sigma^2 = D(X).$"
      ]
    },
    {
      "cell_type": "markdown",
      "metadata": {
        "id": "1q-XrpWpi6Vd"
      },
      "source": [
        "График плотности нормального распределения имеет колоколообразную форму:"
      ]
    },
    {
      "cell_type": "markdown",
      "metadata": {
        "id": "HDlsBYJ5i6Vg"
      },
      "source": [
        "<img src='https://ru.files.fm/thumb_show.php?i=wmq8yuhw&view' width=500> </img> Рис 3. График плотности нормального распределения"
      ]
    },
    {
      "cell_type": "markdown",
      "metadata": {
        "id": "BJM8r1DSi6Vm"
      },
      "source": [
        "Примеры нормально распределенных величин: рост и вес людей, скорость движение молекул в газах и жидкостях, показатели IQ."
      ]
    },
    {
      "cell_type": "markdown",
      "metadata": {
        "id": "nMIonO2Si6Vu"
      },
      "source": [
        "Одно из свойств нормального распределения: среднее значение, медиана и мода совпадают."
      ]
    },
    {
      "cell_type": "markdown",
      "metadata": {
        "id": "r5RucWyGi6Vx"
      },
      "source": [
        "На отрезке от $-\\sigma$ до $+\\sigma$ расположено около 68 % наблюдений,\n",
        "\n",
        "от $-2\\sigma$ до $+2\\sigma$ — 95.4 %,\n",
        "\n",
        "и от $-3\\sigma$ до $+3\\sigma$ — 99.72 %."
      ]
    },
    {
      "cell_type": "markdown",
      "metadata": {
        "id": "2hgQxgpYi6Vy"
      },
      "source": [
        "**Пример 1**"
      ]
    },
    {
      "cell_type": "markdown",
      "metadata": {
        "id": "HTxyDrh0i6V0"
      },
      "source": [
        "Расмотрим конкретный пример данных, распределенных нормально, — из статьи\n",
        "<a href='https://habr.com/post/301340/'>«Рост хоккеистов: анализируем данные всех чемпионатов мира в текущем веке»</a>."
      ]
    },
    {
      "cell_type": "code",
      "metadata": {
        "id": "-UQ9luH2i6V2"
      },
      "source": [
        "import pandas as pd\n",
        "import numpy as np"
      ],
      "execution_count": null,
      "outputs": []
    },
    {
      "cell_type": "code",
      "metadata": {
        "id": "bmsGD4E6i6WB",
        "colab": {
          "base_uri": "https://localhost:8080/",
          "height": 312
        },
        "outputId": "e693829e-a98f-4ac6-de18-4348e70f1c80"
      },
      "source": [
        "df = pd.read_csv('csv/hockey_players.csv', encoding='cp1251', parse_dates=['birth'])"
      ],
      "execution_count": null,
      "outputs": [
        {
          "output_type": "error",
          "ename": "FileNotFoundError",
          "evalue": "ignored",
          "traceback": [
            "\u001b[0;31m---------------------------------------------------------------------------\u001b[0m",
            "\u001b[0;31mFileNotFoundError\u001b[0m                         Traceback (most recent call last)",
            "\u001b[0;32m<ipython-input-2-d527b8782777>\u001b[0m in \u001b[0;36m<module>\u001b[0;34m()\u001b[0m\n\u001b[0;32m----> 1\u001b[0;31m \u001b[0mdf\u001b[0m \u001b[0;34m=\u001b[0m \u001b[0mpd\u001b[0m\u001b[0;34m.\u001b[0m\u001b[0mread_csv\u001b[0m\u001b[0;34m(\u001b[0m\u001b[0;34m'csv/hockey_players.csv'\u001b[0m\u001b[0;34m,\u001b[0m \u001b[0mencoding\u001b[0m\u001b[0;34m=\u001b[0m\u001b[0;34m'cp1251'\u001b[0m\u001b[0;34m,\u001b[0m \u001b[0mparse_dates\u001b[0m\u001b[0;34m=\u001b[0m\u001b[0;34m[\u001b[0m\u001b[0;34m'birth'\u001b[0m\u001b[0;34m]\u001b[0m\u001b[0;34m)\u001b[0m\u001b[0;34m\u001b[0m\u001b[0;34m\u001b[0m\u001b[0m\n\u001b[0m",
            "\u001b[0;32m/usr/local/lib/python3.7/dist-packages/pandas/io/parsers.py\u001b[0m in \u001b[0;36mread_csv\u001b[0;34m(filepath_or_buffer, sep, delimiter, header, names, index_col, usecols, squeeze, prefix, mangle_dupe_cols, dtype, engine, converters, true_values, false_values, skipinitialspace, skiprows, skipfooter, nrows, na_values, keep_default_na, na_filter, verbose, skip_blank_lines, parse_dates, infer_datetime_format, keep_date_col, date_parser, dayfirst, cache_dates, iterator, chunksize, compression, thousands, decimal, lineterminator, quotechar, quoting, doublequote, escapechar, comment, encoding, dialect, error_bad_lines, warn_bad_lines, delim_whitespace, low_memory, memory_map, float_precision)\u001b[0m\n\u001b[1;32m    686\u001b[0m     )\n\u001b[1;32m    687\u001b[0m \u001b[0;34m\u001b[0m\u001b[0m\n\u001b[0;32m--> 688\u001b[0;31m     \u001b[0;32mreturn\u001b[0m \u001b[0m_read\u001b[0m\u001b[0;34m(\u001b[0m\u001b[0mfilepath_or_buffer\u001b[0m\u001b[0;34m,\u001b[0m \u001b[0mkwds\u001b[0m\u001b[0;34m)\u001b[0m\u001b[0;34m\u001b[0m\u001b[0;34m\u001b[0m\u001b[0m\n\u001b[0m\u001b[1;32m    689\u001b[0m \u001b[0;34m\u001b[0m\u001b[0m\n\u001b[1;32m    690\u001b[0m \u001b[0;34m\u001b[0m\u001b[0m\n",
            "\u001b[0;32m/usr/local/lib/python3.7/dist-packages/pandas/io/parsers.py\u001b[0m in \u001b[0;36m_read\u001b[0;34m(filepath_or_buffer, kwds)\u001b[0m\n\u001b[1;32m    452\u001b[0m \u001b[0;34m\u001b[0m\u001b[0m\n\u001b[1;32m    453\u001b[0m     \u001b[0;31m# Create the parser.\u001b[0m\u001b[0;34m\u001b[0m\u001b[0;34m\u001b[0m\u001b[0;34m\u001b[0m\u001b[0m\n\u001b[0;32m--> 454\u001b[0;31m     \u001b[0mparser\u001b[0m \u001b[0;34m=\u001b[0m \u001b[0mTextFileReader\u001b[0m\u001b[0;34m(\u001b[0m\u001b[0mfp_or_buf\u001b[0m\u001b[0;34m,\u001b[0m \u001b[0;34m**\u001b[0m\u001b[0mkwds\u001b[0m\u001b[0;34m)\u001b[0m\u001b[0;34m\u001b[0m\u001b[0;34m\u001b[0m\u001b[0m\n\u001b[0m\u001b[1;32m    455\u001b[0m \u001b[0;34m\u001b[0m\u001b[0m\n\u001b[1;32m    456\u001b[0m     \u001b[0;32mif\u001b[0m \u001b[0mchunksize\u001b[0m \u001b[0;32mor\u001b[0m \u001b[0miterator\u001b[0m\u001b[0;34m:\u001b[0m\u001b[0;34m\u001b[0m\u001b[0;34m\u001b[0m\u001b[0m\n",
            "\u001b[0;32m/usr/local/lib/python3.7/dist-packages/pandas/io/parsers.py\u001b[0m in \u001b[0;36m__init__\u001b[0;34m(self, f, engine, **kwds)\u001b[0m\n\u001b[1;32m    946\u001b[0m             \u001b[0mself\u001b[0m\u001b[0;34m.\u001b[0m\u001b[0moptions\u001b[0m\u001b[0;34m[\u001b[0m\u001b[0;34m\"has_index_names\"\u001b[0m\u001b[0;34m]\u001b[0m \u001b[0;34m=\u001b[0m \u001b[0mkwds\u001b[0m\u001b[0;34m[\u001b[0m\u001b[0;34m\"has_index_names\"\u001b[0m\u001b[0;34m]\u001b[0m\u001b[0;34m\u001b[0m\u001b[0;34m\u001b[0m\u001b[0m\n\u001b[1;32m    947\u001b[0m \u001b[0;34m\u001b[0m\u001b[0m\n\u001b[0;32m--> 948\u001b[0;31m         \u001b[0mself\u001b[0m\u001b[0;34m.\u001b[0m\u001b[0m_make_engine\u001b[0m\u001b[0;34m(\u001b[0m\u001b[0mself\u001b[0m\u001b[0;34m.\u001b[0m\u001b[0mengine\u001b[0m\u001b[0;34m)\u001b[0m\u001b[0;34m\u001b[0m\u001b[0;34m\u001b[0m\u001b[0m\n\u001b[0m\u001b[1;32m    949\u001b[0m \u001b[0;34m\u001b[0m\u001b[0m\n\u001b[1;32m    950\u001b[0m     \u001b[0;32mdef\u001b[0m \u001b[0mclose\u001b[0m\u001b[0;34m(\u001b[0m\u001b[0mself\u001b[0m\u001b[0;34m)\u001b[0m\u001b[0;34m:\u001b[0m\u001b[0;34m\u001b[0m\u001b[0;34m\u001b[0m\u001b[0m\n",
            "\u001b[0;32m/usr/local/lib/python3.7/dist-packages/pandas/io/parsers.py\u001b[0m in \u001b[0;36m_make_engine\u001b[0;34m(self, engine)\u001b[0m\n\u001b[1;32m   1178\u001b[0m     \u001b[0;32mdef\u001b[0m \u001b[0m_make_engine\u001b[0m\u001b[0;34m(\u001b[0m\u001b[0mself\u001b[0m\u001b[0;34m,\u001b[0m \u001b[0mengine\u001b[0m\u001b[0;34m=\u001b[0m\u001b[0;34m\"c\"\u001b[0m\u001b[0;34m)\u001b[0m\u001b[0;34m:\u001b[0m\u001b[0;34m\u001b[0m\u001b[0;34m\u001b[0m\u001b[0m\n\u001b[1;32m   1179\u001b[0m         \u001b[0;32mif\u001b[0m \u001b[0mengine\u001b[0m \u001b[0;34m==\u001b[0m \u001b[0;34m\"c\"\u001b[0m\u001b[0;34m:\u001b[0m\u001b[0;34m\u001b[0m\u001b[0;34m\u001b[0m\u001b[0m\n\u001b[0;32m-> 1180\u001b[0;31m             \u001b[0mself\u001b[0m\u001b[0;34m.\u001b[0m\u001b[0m_engine\u001b[0m \u001b[0;34m=\u001b[0m \u001b[0mCParserWrapper\u001b[0m\u001b[0;34m(\u001b[0m\u001b[0mself\u001b[0m\u001b[0;34m.\u001b[0m\u001b[0mf\u001b[0m\u001b[0;34m,\u001b[0m \u001b[0;34m**\u001b[0m\u001b[0mself\u001b[0m\u001b[0;34m.\u001b[0m\u001b[0moptions\u001b[0m\u001b[0;34m)\u001b[0m\u001b[0;34m\u001b[0m\u001b[0;34m\u001b[0m\u001b[0m\n\u001b[0m\u001b[1;32m   1181\u001b[0m         \u001b[0;32melse\u001b[0m\u001b[0;34m:\u001b[0m\u001b[0;34m\u001b[0m\u001b[0;34m\u001b[0m\u001b[0m\n\u001b[1;32m   1182\u001b[0m             \u001b[0;32mif\u001b[0m \u001b[0mengine\u001b[0m \u001b[0;34m==\u001b[0m \u001b[0;34m\"python\"\u001b[0m\u001b[0;34m:\u001b[0m\u001b[0;34m\u001b[0m\u001b[0;34m\u001b[0m\u001b[0m\n",
            "\u001b[0;32m/usr/local/lib/python3.7/dist-packages/pandas/io/parsers.py\u001b[0m in \u001b[0;36m__init__\u001b[0;34m(self, src, **kwds)\u001b[0m\n\u001b[1;32m   1991\u001b[0m         \u001b[0;32mif\u001b[0m \u001b[0mkwds\u001b[0m\u001b[0;34m.\u001b[0m\u001b[0mget\u001b[0m\u001b[0;34m(\u001b[0m\u001b[0;34m\"compression\"\u001b[0m\u001b[0;34m)\u001b[0m \u001b[0;32mis\u001b[0m \u001b[0;32mNone\u001b[0m \u001b[0;32mand\u001b[0m \u001b[0mencoding\u001b[0m\u001b[0;34m:\u001b[0m\u001b[0;34m\u001b[0m\u001b[0;34m\u001b[0m\u001b[0m\n\u001b[1;32m   1992\u001b[0m             \u001b[0;32mif\u001b[0m \u001b[0misinstance\u001b[0m\u001b[0;34m(\u001b[0m\u001b[0msrc\u001b[0m\u001b[0;34m,\u001b[0m \u001b[0mstr\u001b[0m\u001b[0;34m)\u001b[0m\u001b[0;34m:\u001b[0m\u001b[0;34m\u001b[0m\u001b[0;34m\u001b[0m\u001b[0m\n\u001b[0;32m-> 1993\u001b[0;31m                 \u001b[0msrc\u001b[0m \u001b[0;34m=\u001b[0m \u001b[0mopen\u001b[0m\u001b[0;34m(\u001b[0m\u001b[0msrc\u001b[0m\u001b[0;34m,\u001b[0m \u001b[0;34m\"rb\"\u001b[0m\u001b[0;34m)\u001b[0m\u001b[0;34m\u001b[0m\u001b[0;34m\u001b[0m\u001b[0m\n\u001b[0m\u001b[1;32m   1994\u001b[0m                 \u001b[0mself\u001b[0m\u001b[0;34m.\u001b[0m\u001b[0mhandles\u001b[0m\u001b[0;34m.\u001b[0m\u001b[0mappend\u001b[0m\u001b[0;34m(\u001b[0m\u001b[0msrc\u001b[0m\u001b[0;34m)\u001b[0m\u001b[0;34m\u001b[0m\u001b[0;34m\u001b[0m\u001b[0m\n\u001b[1;32m   1995\u001b[0m \u001b[0;34m\u001b[0m\u001b[0m\n",
            "\u001b[0;31mFileNotFoundError\u001b[0m: [Errno 2] No such file or directory: 'csv/hockey_players.csv'"
          ]
        }
      ]
    },
    {
      "cell_type": "markdown",
      "metadata": {
        "id": "swgqE8N4i6WI"
      },
      "source": [
        "Просмотрим первые строки датасета:"
      ]
    },
    {
      "cell_type": "code",
      "metadata": {
        "id": "nUXZvcjgi6WK",
        "colab": {
          "base_uri": "https://localhost:8080/",
          "height": 232
        },
        "outputId": "97f3fc49-e294-474c-cce7-492b3cc5624c"
      },
      "source": [
        "df.head()"
      ],
      "execution_count": null,
      "outputs": [
        {
          "output_type": "error",
          "ename": "NameError",
          "evalue": "ignored",
          "traceback": [
            "\u001b[0;31m---------------------------------------------------------------------------\u001b[0m",
            "\u001b[0;31mNameError\u001b[0m                                 Traceback (most recent call last)",
            "\u001b[0;32m<ipython-input-9-c42a15b2c7cf>\u001b[0m in \u001b[0;36m<module>\u001b[0;34m()\u001b[0m\n\u001b[0;32m----> 1\u001b[0;31m \u001b[0mdf\u001b[0m\u001b[0;34m.\u001b[0m\u001b[0mhead\u001b[0m\u001b[0;34m(\u001b[0m\u001b[0;34m)\u001b[0m\u001b[0;34m\u001b[0m\u001b[0;34m\u001b[0m\u001b[0m\n\u001b[0m",
            "\u001b[0;31mNameError\u001b[0m: name 'df' is not defined"
          ]
        }
      ]
    },
    {
      "cell_type": "markdown",
      "metadata": {
        "id": "QEJZ5LTSi6WW"
      },
      "source": [
        "Посмотрим количество строк, полей и информацию о полях в датасете:"
      ]
    },
    {
      "cell_type": "code",
      "metadata": {
        "id": "wjgoaSKxi6WY",
        "colab": {
          "base_uri": "https://localhost:8080/",
          "height": 232
        },
        "outputId": "58e4ad38-972d-46d2-e233-300185ff2094"
      },
      "source": [
        "df.shape"
      ],
      "execution_count": null,
      "outputs": [
        {
          "output_type": "error",
          "ename": "NameError",
          "evalue": "ignored",
          "traceback": [
            "\u001b[0;31m---------------------------------------------------------------------------\u001b[0m",
            "\u001b[0;31mNameError\u001b[0m                                 Traceback (most recent call last)",
            "\u001b[0;32m<ipython-input-1-633337079cd0>\u001b[0m in \u001b[0;36m<module>\u001b[0;34m()\u001b[0m\n\u001b[0;32m----> 1\u001b[0;31m \u001b[0mdf\u001b[0m\u001b[0;34m.\u001b[0m\u001b[0mshape\u001b[0m\u001b[0;34m\u001b[0m\u001b[0;34m\u001b[0m\u001b[0m\n\u001b[0m",
            "\u001b[0;31mNameError\u001b[0m: name 'df' is not defined"
          ]
        }
      ]
    },
    {
      "cell_type": "code",
      "metadata": {
        "id": "LmZrkjUoi6Wj"
      },
      "source": [
        "df.columns"
      ],
      "execution_count": null,
      "outputs": []
    },
    {
      "cell_type": "code",
      "metadata": {
        "id": "OAiu_WjGi6Wq"
      },
      "source": [
        "df.describe()"
      ],
      "execution_count": null,
      "outputs": []
    },
    {
      "cell_type": "markdown",
      "metadata": {
        "id": "VRPQmemUi6Wz"
      },
      "source": [
        "Удалим дубликаты:"
      ]
    },
    {
      "cell_type": "code",
      "metadata": {
        "id": "Y2uJztvvi6W0"
      },
      "source": [
        "df = df.drop_duplicates(['name', 'birth'])"
      ],
      "execution_count": null,
      "outputs": []
    },
    {
      "cell_type": "code",
      "metadata": {
        "id": "pK0C_2tRi6XB"
      },
      "source": [
        "df.shape"
      ],
      "execution_count": null,
      "outputs": []
    },
    {
      "cell_type": "markdown",
      "metadata": {
        "id": "le-taotCi6XN"
      },
      "source": [
        "Построим распределение роста среди хоккеистов:"
      ]
    },
    {
      "cell_type": "code",
      "metadata": {
        "id": "O8xmDadti6XO"
      },
      "source": [
        "import matplotlib.pyplot as plt"
      ],
      "execution_count": null,
      "outputs": []
    },
    {
      "cell_type": "code",
      "metadata": {
        "id": "Xb7ozyBOi6XV",
        "colab": {
          "base_uri": "https://localhost:8080/",
          "height": 267
        },
        "outputId": "49df1230-81a3-4c8a-9b5e-19f214e748e5"
      },
      "source": [
        "plt.hist(df['height'], bins=20)\n",
        "plt.show()"
      ],
      "execution_count": null,
      "outputs": [
        {
          "output_type": "error",
          "ename": "NameError",
          "evalue": "ignored",
          "traceback": [
            "\u001b[0;31m---------------------------------------------------------------------------\u001b[0m",
            "\u001b[0;31mNameError\u001b[0m                                 Traceback (most recent call last)",
            "\u001b[0;32m<ipython-input-6-e5fc338e69f7>\u001b[0m in \u001b[0;36m<module>\u001b[0;34m()\u001b[0m\n\u001b[0;32m----> 1\u001b[0;31m \u001b[0mplt\u001b[0m\u001b[0;34m.\u001b[0m\u001b[0mhist\u001b[0m\u001b[0;34m(\u001b[0m\u001b[0mdf\u001b[0m\u001b[0;34m[\u001b[0m\u001b[0;34m'height'\u001b[0m\u001b[0;34m]\u001b[0m\u001b[0;34m,\u001b[0m \u001b[0mbins\u001b[0m\u001b[0;34m=\u001b[0m\u001b[0;36m20\u001b[0m\u001b[0;34m)\u001b[0m\u001b[0;34m\u001b[0m\u001b[0;34m\u001b[0m\u001b[0m\n\u001b[0m\u001b[1;32m      2\u001b[0m \u001b[0mplt\u001b[0m\u001b[0;34m.\u001b[0m\u001b[0mshow\u001b[0m\u001b[0;34m(\u001b[0m\u001b[0;34m)\u001b[0m\u001b[0;34m\u001b[0m\u001b[0;34m\u001b[0m\u001b[0m\n",
            "\u001b[0;31mNameError\u001b[0m: name 'df' is not defined"
          ]
        }
      ]
    },
    {
      "cell_type": "markdown",
      "metadata": {
        "id": "yttA1NUQi6Xp"
      },
      "source": [
        "На гистограмме видим характерное — похожее на колокол — нормальное распределение, так как мы знаем, что рост — одна из величин, которые могут распределяться нормально. Посмотрим отдельно статистики распределения роста хоккеистов."
      ]
    },
    {
      "cell_type": "markdown",
      "metadata": {
        "id": "rFclwRdoi6Xr"
      },
      "source": [
        "Среднее значение:"
      ]
    },
    {
      "cell_type": "code",
      "metadata": {
        "id": "X5an2KXyi6Xt"
      },
      "source": [
        "df['height'].mean()"
      ],
      "execution_count": null,
      "outputs": []
    },
    {
      "cell_type": "markdown",
      "metadata": {
        "id": "pPismRLIi6X0"
      },
      "source": [
        "Медиана:"
      ]
    },
    {
      "cell_type": "code",
      "metadata": {
        "id": "s3HEJ2kdi6X2"
      },
      "source": [
        "df['height'].median()"
      ],
      "execution_count": null,
      "outputs": []
    },
    {
      "cell_type": "markdown",
      "metadata": {
        "id": "Crajxm_oi6X-"
      },
      "source": [
        "Мода (специально для этого показателя предварительно округлим значения роста до целых):"
      ]
    },
    {
      "cell_type": "code",
      "metadata": {
        "id": "_UhX2_rai6YA"
      },
      "source": [
        "df['height_rounded'] = df['height'].apply(round)\n",
        "df['height_rounded'].head(10)"
      ],
      "execution_count": null,
      "outputs": []
    },
    {
      "cell_type": "code",
      "metadata": {
        "id": "WcMSgPJyi6YI"
      },
      "source": [
        "df['height'].mode()"
      ],
      "execution_count": null,
      "outputs": []
    },
    {
      "cell_type": "markdown",
      "metadata": {
        "id": "EsO96t9ri6YS"
      },
      "source": [
        "Видим, что значения среднего, медианы и моды достаточно близки. При большем количестве наблюдений и хорошем приближении к нормальному распределению эти величины могли бы быть приблизительно равны."
      ]
    },
    {
      "cell_type": "markdown",
      "metadata": {
        "id": "4N2B3zuki6YU"
      },
      "source": [
        "Среднее квадратичное отклонение:"
      ]
    },
    {
      "cell_type": "code",
      "metadata": {
        "id": "QMny5o5Ri6YW"
      },
      "source": [
        "df['height'].std()"
      ],
      "execution_count": null,
      "outputs": []
    },
    {
      "cell_type": "markdown",
      "metadata": {
        "id": "bRJeoJJCi6Yg"
      },
      "source": [
        "Дисперсия:"
      ]
    },
    {
      "cell_type": "code",
      "metadata": {
        "id": "NAK_pW9Fi6Yk",
        "colab": {
          "base_uri": "https://localhost:8080/",
          "height": 169
        },
        "outputId": "cf50aac1-c9e9-4d6b-ea8d-534ed5a09966"
      },
      "source": [
        "df['height'].var()"
      ],
      "execution_count": null,
      "outputs": [
        {
          "output_type": "error",
          "ename": "NameError",
          "evalue": "ignored",
          "traceback": [
            "\u001b[0;31m---------------------------------------------------------------------------\u001b[0m",
            "\u001b[0;31mNameError\u001b[0m                                 Traceback (most recent call last)",
            "\u001b[0;32m<ipython-input-1-396386b39ed9>\u001b[0m in \u001b[0;36m<module>\u001b[0;34m()\u001b[0m\n\u001b[0;32m----> 1\u001b[0;31m \u001b[0mdf\u001b[0m\u001b[0;34m[\u001b[0m\u001b[0;34m'height'\u001b[0m\u001b[0;34m]\u001b[0m\u001b[0;34m.\u001b[0m\u001b[0mvar\u001b[0m\u001b[0;34m(\u001b[0m\u001b[0;34m)\u001b[0m\u001b[0;34m\u001b[0m\u001b[0;34m\u001b[0m\u001b[0m\n\u001b[0m",
            "\u001b[0;31mNameError\u001b[0m: name 'df' is not defined"
          ]
        }
      ]
    },
    {
      "cell_type": "markdown",
      "metadata": {
        "id": "OJQ2MA-7i6Yt"
      },
      "source": [
        "#### Центральная предельная теорема"
      ]
    },
    {
      "cell_type": "markdown",
      "metadata": {
        "id": "uvR_ni38i6Yv"
      },
      "source": [
        "Центральные предельные теоремы — класс теорем в теории вероятностей. Они утверждают, что сумма достаточно большого количества слабо зависимых случайных величин, имеющих примерно одинаковые масштабы (ни одно из слагаемых не доминирует, не вносит в сумму определяющего вклада), имеет распределение, близкое к нормальному."
      ]
    },
    {
      "cell_type": "markdown",
      "metadata": {
        "id": "3swSoDmHi6Yw"
      },
      "source": [
        "Если у нас есть несколько выборок из генеральной совокупности (то есть из совокупности всех возможных объектов исследования), то среднее по этим выборкам также будет иметь нормальное распределение."
      ]
    },
    {
      "cell_type": "markdown",
      "metadata": {
        "id": "t-P7XtKLi6Yx"
      },
      "source": [
        "Другими словами, среднее достаточно большого числа независимых и нормально распределенных случайных величин также является приблизительно нормально распределенным."
      ]
    },
    {
      "cell_type": "markdown",
      "metadata": {
        "id": "ZNJVNoUzi6Y0"
      },
      "source": [
        "Если $x_1, x_2, ..., x_n$ — случайные величины с математическим ожиданием (или средним значением) $\\mu$ и стандартным отклонением $\\sigma$, и при этом $n$ — большое число, то $\\frac{1}{n}(x_1 + x_2 + ... + x_n)$ — приближенно нормально распределенная величина с математическим ожиданием $\\mu$ и стандартным отклонением, равным $\\frac{\\sigma}{\\sqrt(n)}$."
      ]
    },
    {
      "cell_type": "markdown",
      "metadata": {
        "id": "LsZdXuI2i6Y1"
      },
      "source": [
        "**Пример 2**"
      ]
    },
    {
      "cell_type": "markdown",
      "metadata": {
        "id": "91QHJiETi6Y3"
      },
      "source": [
        "Из имеющегося набора данных с ростом хоккеистов сформируем 300 выборок по 10 наблюдений и рассмотрим распределение средних значений:"
      ]
    },
    {
      "cell_type": "code",
      "metadata": {
        "id": "ce661T2wi6Y-"
      },
      "source": [
        "np.random.seed(42)"
      ],
      "execution_count": null,
      "outputs": []
    },
    {
      "cell_type": "code",
      "metadata": {
        "id": "lIjw59w3i6ZF"
      },
      "source": [
        "samples = []"
      ],
      "execution_count": null,
      "outputs": []
    },
    {
      "cell_type": "code",
      "metadata": {
        "id": "gJWXD9Bei6ZL",
        "colab": {
          "base_uri": "https://localhost:8080/",
          "height": 197
        },
        "outputId": "19b7f28d-cc77-407c-a54e-acd3d0e89c9d"
      },
      "source": [
        "for i in range(300):\n",
        "    sample = df.loc[:, 'height'].sample(n=10).values\n",
        "    samples.append(sample)"
      ],
      "execution_count": null,
      "outputs": [
        {
          "output_type": "error",
          "ename": "NameError",
          "evalue": "ignored",
          "traceback": [
            "\u001b[0;31m---------------------------------------------------------------------------\u001b[0m",
            "\u001b[0;31mNameError\u001b[0m                                 Traceback (most recent call last)",
            "\u001b[0;32m<ipython-input-6-814c30d4f3a7>\u001b[0m in \u001b[0;36m<module>\u001b[0;34m()\u001b[0m\n\u001b[1;32m      1\u001b[0m \u001b[0;32mfor\u001b[0m \u001b[0mi\u001b[0m \u001b[0;32min\u001b[0m \u001b[0mrange\u001b[0m\u001b[0;34m(\u001b[0m\u001b[0;36m300\u001b[0m\u001b[0;34m)\u001b[0m\u001b[0;34m:\u001b[0m\u001b[0;34m\u001b[0m\u001b[0;34m\u001b[0m\u001b[0m\n\u001b[0;32m----> 2\u001b[0;31m     \u001b[0msample\u001b[0m \u001b[0;34m=\u001b[0m \u001b[0mdf\u001b[0m\u001b[0;34m.\u001b[0m\u001b[0mloc\u001b[0m\u001b[0;34m[\u001b[0m\u001b[0;34m:\u001b[0m\u001b[0;34m,\u001b[0m \u001b[0;34m'height'\u001b[0m\u001b[0;34m]\u001b[0m\u001b[0;34m.\u001b[0m\u001b[0msample\u001b[0m\u001b[0;34m(\u001b[0m\u001b[0mn\u001b[0m\u001b[0;34m=\u001b[0m\u001b[0;36m10\u001b[0m\u001b[0;34m)\u001b[0m\u001b[0;34m.\u001b[0m\u001b[0mvalues\u001b[0m\u001b[0;34m\u001b[0m\u001b[0;34m\u001b[0m\u001b[0m\n\u001b[0m\u001b[1;32m      3\u001b[0m     \u001b[0msamples\u001b[0m\u001b[0;34m.\u001b[0m\u001b[0mappend\u001b[0m\u001b[0;34m(\u001b[0m\u001b[0msample\u001b[0m\u001b[0;34m)\u001b[0m\u001b[0;34m\u001b[0m\u001b[0;34m\u001b[0m\u001b[0m\n",
            "\u001b[0;31mNameError\u001b[0m: name 'df' is not defined"
          ]
        }
      ]
    },
    {
      "cell_type": "markdown",
      "metadata": {
        "id": "5ni3mNeti6ZT"
      },
      "source": [
        "Вычислим средние значения для каждой выборки:"
      ]
    },
    {
      "cell_type": "code",
      "metadata": {
        "id": "T_D4fYNMi6Za"
      },
      "source": [
        "mean_values = []"
      ],
      "execution_count": null,
      "outputs": []
    },
    {
      "cell_type": "code",
      "metadata": {
        "id": "YCbucA8di6Zq"
      },
      "source": [
        "for sample in samples:\n",
        "    mean_values.append(sample.mean())"
      ],
      "execution_count": null,
      "outputs": []
    },
    {
      "cell_type": "code",
      "metadata": {
        "id": "IQIpStyei6Z1"
      },
      "source": [
        "len(mean_values)"
      ],
      "execution_count": null,
      "outputs": []
    },
    {
      "cell_type": "code",
      "metadata": {
        "id": "QGZpP0vBi6Z_"
      },
      "source": [
        "mean_values = np.array(mean_values)"
      ],
      "execution_count": null,
      "outputs": []
    },
    {
      "cell_type": "code",
      "metadata": {
        "id": "h2Dymc_Qi6aE"
      },
      "source": [
        "mean_values"
      ],
      "execution_count": null,
      "outputs": []
    },
    {
      "cell_type": "code",
      "metadata": {
        "id": "MCa_T6BXi6aL"
      },
      "source": [
        "plt.hist(mean_values, bins=10)\n",
        "plt.show()"
      ],
      "execution_count": null,
      "outputs": []
    },
    {
      "cell_type": "markdown",
      "metadata": {
        "id": "WPRRNnEKi6aW"
      },
      "source": [
        "По гистограмме видно: количество наблюдений недостаточно большое, но распределение похоже на нормальное."
      ]
    },
    {
      "cell_type": "code",
      "metadata": {
        "id": "sANwFnRCi6aa"
      },
      "source": [],
      "execution_count": null,
      "outputs": []
    },
    {
      "cell_type": "markdown",
      "metadata": {
        "id": "HwgX6XIaiVhz"
      },
      "source": [
        "## <center>Практическое задание <a class=\"anchor\" id=\"ex\"></a><center>"
      ]
    },
    {
      "cell_type": "markdown",
      "metadata": {
        "id": "QIUfMUmkidsG"
      },
      "source": [
        "### Задание 1 <a class=\"anchor\" id=\"ex1\"></a>"
      ]
    },
    {
      "cell_type": "markdown",
      "metadata": {
        "id": "w5WRarEhi5mC"
      },
      "source": [
        "Случайная непрерывная величина A имеет равномерное распределение на промежутке (200, 800].\n",
        "Найдите ее среднее значение и дисперсию."
      ]
    },
    {
      "cell_type": "markdown",
      "metadata": {
        "id": "GQbZcAUPijP0"
      },
      "source": [
        "### Решение"
      ]
    },
    {
      "cell_type": "markdown",
      "metadata": {
        "id": "_1r_rvgykAWK"
      },
      "source": [
        "Математическое ожидание $M(X)$ равномерно распределенной непрерывной случайной величины:"
      ]
    },
    {
      "cell_type": "markdown",
      "metadata": {
        "id": "ClqxxAkCkLx6"
      },
      "source": [
        "$$M(X) = \\frac{a + b}{2} = \\frac{200 + 800}{2} = 500$$"
      ]
    },
    {
      "cell_type": "code",
      "metadata": {
        "colab": {
          "base_uri": "https://localhost:8080/"
        },
        "id": "K_5A483HkeA7",
        "outputId": "959f09d3-3c87-4b9d-d35d-774e376aba37"
      },
      "source": [
        "(200+800)/2"
      ],
      "execution_count": null,
      "outputs": [
        {
          "output_type": "execute_result",
          "data": {
            "text/plain": [
              "500.0"
            ]
          },
          "metadata": {
            "tags": []
          },
          "execution_count": 5
        }
      ]
    },
    {
      "cell_type": "markdown",
      "metadata": {
        "id": "FwjLnFvhk4Uj"
      },
      "source": [
        "Дисперсия $D(X)$:"
      ]
    },
    {
      "cell_type": "markdown",
      "metadata": {
        "id": "Nv7RSKKOlADz"
      },
      "source": [
        "$$D(X) = \\frac{(b - a)^2}{12} = \\frac{(800 - 200)^2}{12} = 30000$$"
      ]
    },
    {
      "cell_type": "code",
      "metadata": {
        "colab": {
          "base_uri": "https://localhost:8080/"
        },
        "id": "ZsqwbIVdoWm-",
        "outputId": "46187e6f-4849-42b2-8f3b-1e74c8599815"
      },
      "source": [
        "(800-200)**2/12"
      ],
      "execution_count": null,
      "outputs": [
        {
          "output_type": "execute_result",
          "data": {
            "text/plain": [
              "30000.0"
            ]
          },
          "metadata": {
            "tags": []
          },
          "execution_count": 4
        }
      ]
    },
    {
      "cell_type": "markdown",
      "metadata": {
        "id": "-SbfH0FYijUP"
      },
      "source": [
        "### Задание 2 <a class=\"anchor\" id=\"ex2\"></a>"
      ]
    },
    {
      "cell_type": "markdown",
      "metadata": {
        "id": "GddnRipoijaL"
      },
      "source": [
        "О случайной непрерывной равномерно распределенной величине B известно, что ее дисперсия равна 0.2.\n",
        "Можно ли найти правую границу величины B и ее среднее значение зная, что левая граница равна 0.5?\n",
        "Если да, найдите ее."
      ]
    },
    {
      "cell_type": "markdown",
      "metadata": {
        "id": "Sa_sSAIHjBOP"
      },
      "source": [
        "### Решение"
      ]
    },
    {
      "cell_type": "markdown",
      "metadata": {
        "id": "QI_PzUxqrO1J"
      },
      "source": [
        "$$f(x) = \\begin{cases} 0, если \\; x \\le a; \\\\ \\frac{1}{b - a}, если \\; a < x \\le b; \\\\ 0, \\; если \\; x > b. \\end{cases}$$"
      ]
    },
    {
      "cell_type": "markdown",
      "metadata": {
        "id": "C2Z6yHofrZJi"
      },
      "source": [
        "$$D(X) = \\frac{(b - a)^2}{12} = \\frac{(b - 0.5)^2}{12} = 0.2$$\n",
        "\n",
        "$$(b - 0.5)^2 = 2.4$$\n",
        "\n",
        "$$b-0.5 = ^+_-1.5492$$\n",
        "\n",
        "$$b_{1,2} = 0.5 ^+_-1.5492$$\n",
        "\n",
        "$$b_1 = -1.0492 \\,\\,\\, \\& \\,\\,\\, b_2 = 2.0492$$\n",
        "\n",
        "$$a = 0.5 \\ll b \\Rightarrow b = 2.0492$$\n",
        "\n",
        "$$ M(X) = \\frac{0.2+2.049}{2} = 1.1246$$"
      ]
    },
    {
      "cell_type": "code",
      "metadata": {
        "colab": {
          "base_uri": "https://localhost:8080/"
        },
        "id": "DWwPPU-9wdda",
        "outputId": "47b6477f-3e3b-49be-90b8-3a088c9186ec"
      },
      "source": [
        "import numpy as np\n",
        "s=np.sqrt(2.4)\n",
        "b=0.5+s\n",
        "b\n",
        "a=0.2\n",
        "m=(a+b)/2\n",
        "m"
      ],
      "execution_count": null,
      "outputs": [
        {
          "output_type": "execute_result",
          "data": {
            "text/plain": [
              "1.1245966692414835"
            ]
          },
          "metadata": {
            "tags": []
          },
          "execution_count": 1
        }
      ]
    },
    {
      "cell_type": "markdown",
      "metadata": {
        "id": "puURkPUjijeb"
      },
      "source": [
        "### Задание 3 <a class=\"anchor\" id=\"ex4\"></a>"
      ]
    },
    {
      "cell_type": "markdown",
      "metadata": {
        "id": "ZCD8IU-jijif"
      },
      "source": [
        "Непрерывная случайная величина X распределена нормально и задана плотностью распределения\n",
        "\n",
        "f(x) = (1 / (4 * sqrt(2*pi))) * (exp(-((x+2)**2) / 32))\n",
        "\n",
        "Найдите:\n",
        "\n",
        "а). M(X)\n",
        "\n",
        "б). D(X)\n",
        "\n",
        "в). std(X) (среднее квадратичное отклонение)"
      ]
    },
    {
      "cell_type": "markdown",
      "metadata": {
        "id": "qBCakBvajnmr"
      },
      "source": [
        "### Решение"
      ]
    },
    {
      "cell_type": "markdown",
      "metadata": {
        "id": "GSJ3o0_qxljj"
      },
      "source": [
        "Нормальное распределение — это распределение вероятностей непрерывной случайной величины $X$, плотность вероятности которой подчиняется формуле:"
      ]
    },
    {
      "cell_type": "markdown",
      "metadata": {
        "id": "Uvc4fpDRxjy5"
      },
      "source": [
        "$$f(x) = \\frac{1}{\\sigma \\sqrt{2 \\pi}} e ^ {- \\frac{(x - \\alpha)^2}{2 \\sigma^2}} = \\frac{1}{4 \\sqrt{2 \\pi}} e ^ {- \\frac{(x + 2)^2}{32}} = \\frac{1}{4 \\sqrt{2 \\pi}} e ^ {- \\frac{(x - (- 2))^2}{2 \\cdot 4^2}}$$"
      ]
    },
    {
      "cell_type": "markdown",
      "metadata": {
        "id": "SP7ic8M0wzzA"
      },
      "source": [
        "а). $M(X) = \\alpha = -2$\n",
        "\n",
        "б). $D(X) = \\sigma^2  = 4^2 = 16$\n",
        "\n",
        "в). Среднее квадратичное отклонение $std(X) = \\sigma = \\sqrt{|D(X)|} = 4$"
      ]
    },
    {
      "cell_type": "markdown",
      "metadata": {
        "id": "49jHrMhCijmv"
      },
      "source": [
        "### Задание 4 <a class=\"anchor\" id=\"ex4\"></a>"
      ]
    },
    {
      "cell_type": "markdown",
      "metadata": {
        "id": "x-2f-T7Tijqp"
      },
      "source": [
        "Рост взрослого населения города X имеет нормальное распределение.\n",
        "\n",
        "Причем, средний рост равен 174 см, а среднее квадратичное отклонение равно 8 см.\n",
        "Какова вероятность того, что случайным образом выбранный взрослый человек имеет рост:\n",
        "\n",
        "а). больше 182 см\n",
        "\n",
        "б). больше 190 см\n",
        "\n",
        "в). от 166 см до 190 см\n",
        "\n",
        "г). от 166 см до 182 см\n",
        "\n",
        "д). от 158 см до 190 см\n",
        "\n",
        "е). не выше 150 см или не ниже 190 см\n",
        "\n",
        "ё). не выше 150 см или не ниже 198 см\n",
        "\n",
        "ж). ниже 166 см."
      ]
    },
    {
      "cell_type": "markdown",
      "metadata": {
        "id": "HGrYI3MMjmMa"
      },
      "source": [
        "### Решение"
      ]
    },
    {
      "cell_type": "markdown",
      "metadata": {
        "id": "9MpHjBXw1i_O"
      },
      "source": [
        "Для расчета вероятностей можно также воспользоваться таблицами нормального распределения:\n",
        "\n",
        "[SixSigmaOnline.ru / три Z-таблицы (левая - правая - отрицательные зн-я)](http://sixsigmaonline.ru/baza-znanij/37-1-0-36)"
      ]
    },
    {
      "cell_type": "code",
      "metadata": {
        "id": "nMNY93gu0_JR"
      },
      "source": [
        "import numpy as np\n",
        "sigma = 8 # среднеквадратичное отклонение\n",
        "mo = 174  # математическое ожидание\n",
        "n = 100000000  # размер массива\n",
        "np.random.seed(25)\n",
        "a = sigma * np.random.randn(n) + mo"
      ],
      "execution_count": null,
      "outputs": []
    },
    {
      "cell_type": "markdown",
      "metadata": {
        "id": "Z52227Bxjqo2"
      },
      "source": [
        "а). больше 182 см\n",
        "\n",
        "$$от \\,\\, \\frac{182-174}{8} = 1 \\sigma$$\n",
        "\n",
        "Из \"Z-таблицы\" при $Z=1$ следует вероятность $0.15866$ (правая сторона, так как верхняя граница до $\\infty$)"
      ]
    },
    {
      "cell_type": "code",
      "metadata": {
        "colab": {
          "base_uri": "https://localhost:8080/"
        },
        "id": "wN1vd5TL1O4R",
        "outputId": "de53a63a-00b2-4cba-de95-010bdaa8d3ed"
      },
      "source": [
        "a[a>182].shape[0]/a.shape[0]"
      ],
      "execution_count": null,
      "outputs": [
        {
          "output_type": "execute_result",
          "data": {
            "text/plain": [
              "0.15869536"
            ]
          },
          "metadata": {
            "tags": []
          },
          "execution_count": 64
        }
      ]
    },
    {
      "cell_type": "markdown",
      "metadata": {
        "id": "S0n7PoU43OhU"
      },
      "source": [
        "б). больше 190 см\n",
        "\n",
        "$$от \\,\\, \\frac{190-174}{8} = 2 \\sigma$$\n",
        "\n",
        "Из \"Z-таблицы\" при $Z=2$ следует вероятность $0.02275$ (правая сторона)"
      ]
    },
    {
      "cell_type": "code",
      "metadata": {
        "colab": {
          "base_uri": "https://localhost:8080/"
        },
        "id": "vN6vcbiH5TsE",
        "outputId": "75709b6f-3950-4f39-e76a-20fba8d4c26b"
      },
      "source": [
        "a[a>190].shape[0]/a.shape[0]"
      ],
      "execution_count": null,
      "outputs": [
        {
          "output_type": "execute_result",
          "data": {
            "text/plain": [
              "0.02274998"
            ]
          },
          "metadata": {
            "tags": []
          },
          "execution_count": 65
        }
      ]
    },
    {
      "cell_type": "markdown",
      "metadata": {
        "id": "SDhFKix63OtE"
      },
      "source": [
        "в). от 166 см до 190 см\n",
        "\n",
        "$$от \\,\\, \\frac{166-174}{8}=-1 \\sigma \\,\\, \\Rightarrow 0.1587  \\, \\, (отриц. \\, зн-я)$$\n",
        "\n",
        "$$до \\,\\,  \\frac{190-174}{8}= 2 \\sigma  \\,\\, \\Rightarrow 0.9772 \\, \\, (левая \\, сторона)$$\n",
        "\n",
        "Следовательно вероятность $0.9772 - 0.1587 = 0.8185$"
      ]
    },
    {
      "cell_type": "code",
      "metadata": {
        "colab": {
          "base_uri": "https://localhost:8080/"
        },
        "id": "4gcPkDHiJ2gJ",
        "outputId": "22071214-8455-4930-ed39-892d8f8f9f4b"
      },
      "source": [
        "t=0.9772-0.1587\n",
        "t"
      ],
      "execution_count": null,
      "outputs": [
        {
          "output_type": "execute_result",
          "data": {
            "text/plain": [
              "0.8185"
            ]
          },
          "metadata": {
            "tags": []
          },
          "execution_count": 98
        }
      ]
    },
    {
      "cell_type": "code",
      "metadata": {
        "colab": {
          "base_uri": "https://localhost:8080/"
        },
        "id": "s8WJGEmV6e2o",
        "outputId": "f4745b3b-2c45-4695-89bb-2f248be16f38"
      },
      "source": [
        "a[(a >= 166) & (a <= 190)].shape[0]/a.shape[0]"
      ],
      "execution_count": null,
      "outputs": [
        {
          "output_type": "execute_result",
          "data": {
            "text/plain": [
              "0.81862783"
            ]
          },
          "metadata": {
            "tags": []
          },
          "execution_count": 78
        }
      ]
    },
    {
      "cell_type": "markdown",
      "metadata": {
        "id": "Q1TGrr5u3Oxl"
      },
      "source": [
        "г). от 166 см до 182 см\n",
        "\n",
        "$$от \\, \\frac{166-174}{8} = -1 \\sigma \\,\\, \\Rightarrow 0.1587  \\, \\, (отриц. \\, зн-я)$$\n",
        "\n",
        "$$до \\, \\, \\frac{182-174}{8} =1 \\sigma \\,\\, \\Rightarrow 0.8413 \\, \\, (левая \\, сторона)$$\n",
        "\n",
        "Следовательно вероятность $0,8413 - 0.1587 = 0.6826$"
      ]
    },
    {
      "cell_type": "code",
      "metadata": {
        "colab": {
          "base_uri": "https://localhost:8080/"
        },
        "id": "dTCNiC-DN_oo",
        "outputId": "4b97098d-326d-4d8c-cb27-23829e4c670c"
      },
      "source": [
        "t=0.8413-0.1587\n",
        "t"
      ],
      "execution_count": null,
      "outputs": [
        {
          "output_type": "execute_result",
          "data": {
            "text/plain": [
              "0.6826000000000001"
            ]
          },
          "metadata": {
            "tags": []
          },
          "execution_count": 81
        }
      ]
    },
    {
      "cell_type": "code",
      "metadata": {
        "colab": {
          "base_uri": "https://localhost:8080/"
        },
        "id": "Hlty8-Na6SEl",
        "outputId": "e4c68ac9-a5ba-4492-84ed-fd5628ac5bd7"
      },
      "source": [
        "a[(a >= 166) & (a <= 182)].shape[0]/a.shape[0]"
      ],
      "execution_count": null,
      "outputs": [
        {
          "output_type": "execute_result",
          "data": {
            "text/plain": [
              "0.68268245"
            ]
          },
          "metadata": {
            "tags": []
          },
          "execution_count": 67
        }
      ]
    },
    {
      "cell_type": "markdown",
      "metadata": {
        "id": "_paRi9gb3O2M"
      },
      "source": [
        "д). от 158 см до 190 см\n",
        "\n",
        "$$от \\, \\frac{158-174}{8} = -2 \\sigma \\,\\, \\Rightarrow 0.0228  \\, \\, (отриц. \\, зн-я)$$\n",
        "\n",
        "$$до \\, \\, \\frac{190-174}{8} =2 \\sigma \\,\\, \\Rightarrow 0.9772 \\, \\, (левая \\, сторона)$$\n",
        "\n",
        "Следовательно вероятность $0.9772 - 0.0228 = 0.9544$"
      ]
    },
    {
      "cell_type": "code",
      "metadata": {
        "colab": {
          "base_uri": "https://localhost:8080/"
        },
        "id": "wDgIClelOec7",
        "outputId": "886e8ec4-d91b-4360-ef0c-d54d23d8c90e"
      },
      "source": [
        "t=0.9772 - 0.0228\n",
        "t"
      ],
      "execution_count": null,
      "outputs": [
        {
          "output_type": "execute_result",
          "data": {
            "text/plain": [
              "0.9543999999999999"
            ]
          },
          "metadata": {
            "tags": []
          },
          "execution_count": 83
        }
      ]
    },
    {
      "cell_type": "code",
      "metadata": {
        "colab": {
          "base_uri": "https://localhost:8080/"
        },
        "id": "JmaQpypE6X0e",
        "outputId": "6a6263a7-9a80-46cc-cbe2-779edf0dd265"
      },
      "source": [
        "a[(a >= 158) & (a <= 190)].shape[0]/a.shape[0]"
      ],
      "execution_count": null,
      "outputs": [
        {
          "output_type": "execute_result",
          "data": {
            "text/plain": [
              "0.9544835"
            ]
          },
          "metadata": {
            "tags": []
          },
          "execution_count": 68
        }
      ]
    },
    {
      "cell_type": "markdown",
      "metadata": {
        "id": "ICiGCmPQ3O7G"
      },
      "source": [
        "е). не выше 150 см или не ниже 190 см\n",
        "\n",
        "$$до \\, \\, \\frac{150-174}{8} =-3 \\sigma \\,\\, \\Rightarrow 0.0013 \\, \\, (отриц. \\, зн-я)$$\n",
        "\n",
        "$$от \\, \\frac{190-174}{8} = 2 \\sigma \\,\\, \\Rightarrow 0.02275  \\, \\, (правая \\, сторона)$$\n",
        "\n",
        "Следовательно вероятность $0.02275 - 0.0013 = 0.2145$"
      ]
    },
    {
      "cell_type": "code",
      "metadata": {
        "colab": {
          "base_uri": "https://localhost:8080/"
        },
        "id": "lSwF3_WRhji9",
        "outputId": "d2109db7-aadf-4fc5-ca1d-d8b8d5bd7bbe"
      },
      "source": [
        "t=0.02275 - 0.0013\n",
        "t"
      ],
      "execution_count": null,
      "outputs": [
        {
          "output_type": "execute_result",
          "data": {
            "text/plain": [
              "0.02145"
            ]
          },
          "metadata": {
            "tags": []
          },
          "execution_count": 111
        }
      ]
    },
    {
      "cell_type": "code",
      "metadata": {
        "colab": {
          "base_uri": "https://localhost:8080/"
        },
        "id": "a4zeY2wN6oKA",
        "outputId": "ca0d9690-dd89-4f78-a79d-9a8bae46ec64"
      },
      "source": [
        "a[(a <= 150) + (a >= 190)].shape[0]/a.shape[0]"
      ],
      "execution_count": null,
      "outputs": [
        {
          "output_type": "execute_result",
          "data": {
            "text/plain": [
              "0.02410641"
            ]
          },
          "metadata": {
            "tags": []
          },
          "execution_count": 105
        }
      ]
    },
    {
      "cell_type": "code",
      "metadata": {
        "colab": {
          "base_uri": "https://localhost:8080/"
        },
        "id": "gNXIFHuSjMEy",
        "outputId": "8d318533-c3c5-4bbb-c738-bdc9df6ab885"
      },
      "source": [
        "a[(a >= 190)].shape[0]/a.shape[0] - a[(a <= 150)].shape[0]/a.shape[0]"
      ],
      "execution_count": null,
      "outputs": [
        {
          "output_type": "execute_result",
          "data": {
            "text/plain": [
              "0.02139355"
            ]
          },
          "metadata": {
            "tags": []
          },
          "execution_count": 112
        }
      ]
    },
    {
      "cell_type": "markdown",
      "metadata": {
        "id": "Wot-IBXI3O_U"
      },
      "source": [
        "ё). не выше 150 см или не ниже 198 см\n",
        "\n",
        "$$до \\, \\, \\frac{150-174}{8} =-3 \\sigma \\,\\, \\Rightarrow 0.0013 \\, \\, (отриц. \\, зн-я)$$\n",
        "\n",
        "$$от \\, \\frac{198-174}{8} = 3 \\sigma \\,\\, \\Rightarrow 0.00135  \\, \\, (правая \\, сторона)$$\n",
        "\n",
        "Следовательно вероятность $0.00135 - 0.0013 = 5.000000000000013e-05$"
      ]
    },
    {
      "cell_type": "code",
      "metadata": {
        "colab": {
          "base_uri": "https://localhost:8080/"
        },
        "id": "f6XJpq39XCRy",
        "outputId": "bdf73658-c6fb-446e-a299-6dfb61c0a4c3"
      },
      "source": [
        "t=0.00135-0.0013\n",
        "t"
      ],
      "execution_count": null,
      "outputs": [
        {
          "output_type": "execute_result",
          "data": {
            "text/plain": [
              "5.000000000000013e-05"
            ]
          },
          "metadata": {
            "tags": []
          },
          "execution_count": 114
        }
      ]
    },
    {
      "cell_type": "code",
      "metadata": {
        "colab": {
          "base_uri": "https://localhost:8080/"
        },
        "id": "Ll-Iw4R8-OVG",
        "outputId": "3ab25727-9531-4baa-8153-f437439eb4ca"
      },
      "source": [
        "a[(a <= 150) + (a >= 198)].shape[0]/a.shape[0]"
      ],
      "execution_count": null,
      "outputs": [
        {
          "output_type": "execute_result",
          "data": {
            "text/plain": [
              "0.00270723"
            ]
          },
          "metadata": {
            "tags": []
          },
          "execution_count": 125
        }
      ]
    },
    {
      "cell_type": "markdown",
      "metadata": {
        "id": "zqK6I6zv3PD9"
      },
      "source": [
        "ж). ниже 166 см.\n",
        "\n",
        "$$до \\,\\, \\frac{166 - 174}{8} = -1 \\sigma$$\n",
        "\n",
        "при $Z=-1$ следует вероятность $0.1587$"
      ]
    },
    {
      "cell_type": "code",
      "metadata": {
        "colab": {
          "base_uri": "https://localhost:8080/"
        },
        "id": "cr7DtCb46yof",
        "outputId": "54f18a70-bef8-4286-b049-819a5d572a5c"
      },
      "source": [
        "a[a<166].shape[0]/a.shape[0]"
      ],
      "execution_count": null,
      "outputs": [
        {
          "output_type": "execute_result",
          "data": {
            "text/plain": [
              "0.15862219"
            ]
          },
          "metadata": {
            "tags": []
          },
          "execution_count": 71
        }
      ]
    },
    {
      "cell_type": "markdown",
      "metadata": {
        "id": "biYTrLB8ijuh"
      },
      "source": [
        "### Задание 5 <a class=\"anchor\" id=\"ex5\"></a>"
      ]
    },
    {
      "cell_type": "markdown",
      "metadata": {
        "id": "ADoeHKiTijyL"
      },
      "source": [
        "На сколько сигм (средних квадратичных отклонений) отклоняется рост человека, равный 190 см, от\n",
        "математического ожидания роста в популяции, в которой M(X) = 178 см и D(X) = 25 кв.см?"
      ]
    },
    {
      "cell_type": "markdown",
      "metadata": {
        "id": "HZAvfeXFij1h"
      },
      "source": [
        "### Решение"
      ]
    },
    {
      "cell_type": "markdown",
      "metadata": {
        "id": "SJdT_PCDikIO"
      },
      "source": [
        "Среднее квадратичное отклонение $$std(X) = \\sigma = \\sqrt{|D(X)|} = \\sqrt{25} = 5$$\n",
        "\n",
        "$$\\frac{190-178}{5} = 2.4 \\sigma \\Rightarrow \\, \\, на \\, \\, 2.4 \\sigma$$"
      ]
    },
    {
      "cell_type": "code",
      "metadata": {
        "colab": {
          "base_uri": "https://localhost:8080/"
        },
        "id": "Yb365MZRoV0m",
        "outputId": "8aca4f46-097d-4a0f-bb9a-9d9c50a47285"
      },
      "source": [
        "(190-178)/5"
      ],
      "execution_count": null,
      "outputs": [
        {
          "output_type": "execute_result",
          "data": {
            "text/plain": [
              "2.4"
            ]
          },
          "metadata": {
            "tags": []
          },
          "execution_count": 127
        }
      ]
    }
  ]
}

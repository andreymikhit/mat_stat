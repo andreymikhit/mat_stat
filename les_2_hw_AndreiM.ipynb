{
  "nbformat": 4,
  "nbformat_minor": 0,
  "metadata": {
    "colab": {
      "provenance": []
    },
    "kernelspec": {
      "display_name": "Python 3",
      "language": "python",
      "name": "python3"
    }
  },
  "cells": [
    {
      "cell_type": "markdown",
      "metadata": {
        "id": "npwZYcsXzdm8"
      },
      "source": [
        "## Урок 2. ДЗ (24.02.2021)\n",
        "### Дискретные случайные величины. Закон распределения вероятностей.\n",
        "\n",
        "### Биномиальный закон распределения. Распределение Пуассона"
      ]
    },
    {
      "cell_type": "markdown",
      "metadata": {
        "id": "HjyzKUAf_4Eg"
      },
      "source": [
        "* [Теория](#theor)\n",
        "* [Практическое задание. ДЗ.](#ex)\n",
        "    * [Задание 1](#ex1)\n",
        "    * [Задание 2](#ex2)\n",
        "    * [Задание 3](#ex3)\n",
        "    * [Задание 4](#ex4)"
      ]
    },
    {
      "cell_type": "markdown",
      "metadata": {
        "id": "p-AI6dcvq2xP"
      },
      "source": [
        "# <center>Теория <a class=\"anchor\" id=\"theor\"></a><center>"
      ]
    },
    {
      "cell_type": "code",
      "metadata": {
        "id": "UhK3_DJWvl2s"
      },
      "source": [
        "АТС получает в среднем за час 480 вызовов. Определить вероятность того, что\n",
        "за данную минуту она получит: ровно 3 вызова; от 2 до 5 вызовов."
      ],
      "execution_count": null,
      "outputs": []
    },
    {
      "cell_type": "markdown",
      "metadata": {
        "id": "nyAZkmuJzdnE"
      },
      "source": [
        "**Случайная величина** — та, которая в результате испытания принимает только одно возможное значение.\n",
        "\n",
        "Оно заранее не известно и может зависеть от множества случайных факторов. Случайные величины могут быть дискретными и непрерывными."
      ]
    },
    {
      "cell_type": "markdown",
      "metadata": {
        "id": "t_m7c5uAzdnK"
      },
      "source": [
        "**Дискретная случайная величина** принимает отделенные друг от друга значения. Например, в результате стократного подбрасывания монетки орел может выпасть 50 или 51 раз (целое число в диапазоне от 0 до 100 включительно), но не 50 с половиной. В данном случае число выпаданий орла — пример дискретной случайной величины."
      ]
    },
    {
      "cell_type": "code",
      "metadata": {
        "id": "Bi2hZ7UbzdnP"
      },
      "source": [
        "import numpy as np"
      ],
      "execution_count": null,
      "outputs": []
    },
    {
      "cell_type": "markdown",
      "metadata": {
        "id": "dVutQlNpzdn0"
      },
      "source": [
        "**Пример 1**\n",
        "\n",
        "Смоделируем стократное подбрасывание монетки с помощью модуля **random** из библиотеки **numpy**. Результат будет дискретной случайной величиной — число выпаданий орла:"
      ]
    },
    {
      "cell_type": "code",
      "metadata": {
        "id": "KPHPGWZyzdn5",
        "colab": {
          "base_uri": "https://localhost:8080/"
        },
        "outputId": "c722e0f7-3a49-4026-a9c7-fe66449ccdf8"
      },
      "source": [
        "# n - число испытаний\n",
        "# p - вероятность появления события\n",
        "np.random.binomial(n=100, p=0.5)"
      ],
      "execution_count": null,
      "outputs": [
        {
          "output_type": "execute_result",
          "data": {
            "text/plain": [
              "62"
            ]
          },
          "metadata": {
            "tags": []
          },
          "execution_count": 2
        }
      ]
    },
    {
      "cell_type": "markdown",
      "metadata": {
        "id": "WI7z1STRzdoU"
      },
      "source": [
        "Клетку можно запускать несколько раз, число выпадений орла будет меняться."
      ]
    },
    {
      "cell_type": "markdown",
      "metadata": {
        "id": "rO8yeFzYzdoZ"
      },
      "source": [
        "**Пример 2**"
      ]
    },
    {
      "cell_type": "code",
      "metadata": {
        "id": "vddHEak_QJ0H"
      },
      "source": [],
      "execution_count": null,
      "outputs": []
    },
    {
      "cell_type": "markdown",
      "metadata": {
        "id": "yQ6kwsqHzdoc"
      },
      "source": [
        "Еще один пример дискретной случайной величины — число дождливых дней летом.\n",
        "\n",
        "Летних дней всего 92, так что здесь мы можем получить случайное целое число из отрезка [0, 92]:"
      ]
    },
    {
      "cell_type": "code",
      "metadata": {
        "id": "gbOwKTkSzdoe",
        "colab": {
          "base_uri": "https://localhost:8080/"
        },
        "outputId": "a8323531-fa8d-4e3e-be25-2d2293510709"
      },
      "source": [
        "np.random.randint(0, 93)"
      ],
      "execution_count": null,
      "outputs": [
        {
          "output_type": "execute_result",
          "data": {
            "text/plain": [
              "16"
            ]
          },
          "metadata": {
            "tags": []
          },
          "execution_count": 13
        }
      ]
    },
    {
      "cell_type": "markdown",
      "metadata": {
        "id": "U-xocIHqzdop"
      },
      "source": [
        "**Пример 3**"
      ]
    },
    {
      "cell_type": "markdown",
      "metadata": {
        "id": "VXKmfth7zdor"
      },
      "source": [
        "Есть также примеры дискретных величин без верхней границы. Например, число метеоритов, упавших на Землю за год, может принимать счетное множество значений от 0 до плюс бесконечности."
      ]
    },
    {
      "cell_type": "markdown",
      "metadata": {
        "id": "Qvi5B5dHzdou"
      },
      "source": [
        "**Закон распределения вероятностей** дискретной случайной величины — это соответствие между возможными значениями этой величины и вероятностями, которые этим значениям соответствуют."
      ]
    },
    {
      "cell_type": "markdown",
      "metadata": {
        "id": "_J86_Xbqzdow"
      },
      "source": [
        "Закон распределения вероятностей можно представить в виде таблицы. Составим ее для количества выпаданий орла при трехкратном подбрасывании монеты:"
      ]
    },
    {
      "cell_type": "code",
      "metadata": {
        "id": "UAuE00rLDsDk"
      },
      "source": [],
      "execution_count": null,
      "outputs": []
    },
    {
      "cell_type": "markdown",
      "metadata": {
        "id": "rTYG_Zc5zdoz"
      },
      "source": [
        "<table border=\"3\">\n",
        "<tr><th>**X**</th><td>0</td><td>1</td><td>2</td><td>3</td></tr>\n",
        "<tr><th>**p**</th><td>0.125</td><td>0.375</td><td>0.375</td><td>0.125</td></tr>\n",
        "</table>"
      ]
    },
    {
      "cell_type": "markdown",
      "metadata": {
        "id": "NpzyNAWZzdo1"
      },
      "source": [
        "Из таблицы видно, что вероятность того, что при трехкратном подбрасывании монетки орел выпадет, к примеру, два раза, равна 0.375."
      ]
    },
    {
      "cell_type": "markdown",
      "metadata": {
        "id": "hF8zgUM3zdo5"
      },
      "source": [
        "**Биномиальное распределение** — один из примеров дискретного распределения."
      ]
    },
    {
      "cell_type": "markdown",
      "metadata": {
        "id": "q_iXGKGWzdo8"
      },
      "source": [
        "Биномиальный закон распределения — это закон распределения числа $X=k$ наступлений события $A$ в $n$ независимых испытаниях, в каждом из которых оно может произойти с вероятностью $p$."
      ]
    },
    {
      "cell_type": "markdown",
      "metadata": {
        "id": "QtFn-eBlzdo-"
      },
      "source": [
        "Число наступления события — это дискретная величина из отрезка [0, $n$]. Вероятности возможных значений этой величины определяются по формуле Бернулли:"
      ]
    },
    {
      "cell_type": "markdown",
      "metadata": {
        "id": "TkoOchWqzdpB"
      },
      "source": [
        "$$P_n(X=k) = C_n^k p^k q^{n-k}$$"
      ]
    },
    {
      "cell_type": "markdown",
      "metadata": {
        "id": "Sb0K-V-jzdpE"
      },
      "source": [
        "где $p$ — это вероятность наступления события $A$ в $n$ независимых испытаниях, a $q = 1 - p$."
      ]
    },
    {
      "cell_type": "markdown",
      "metadata": {
        "id": "EqTMvz9fzdpH"
      },
      "source": [
        "Математическое ожидание для биномиально распределенной дискретной величины можно вычислить по формуле:"
      ]
    },
    {
      "cell_type": "code",
      "metadata": {
        "id": "nkes5lXIf4so"
      },
      "source": [],
      "execution_count": null,
      "outputs": []
    },
    {
      "cell_type": "markdown",
      "metadata": {
        "id": "qhuJl8x10aYv"
      },
      "source": []
    },
    {
      "cell_type": "markdown",
      "metadata": {
        "id": "D5HaYkbgzdpK"
      },
      "source": [
        "$$M(X) = np$$"
      ]
    },
    {
      "cell_type": "markdown",
      "metadata": {
        "id": "XiPEiZ4YzdpL"
      },
      "source": [
        "Дисперсия для биномиально распределенной дискретной величины вычисляется так:"
      ]
    },
    {
      "cell_type": "markdown",
      "metadata": {
        "id": "22AP6paZzdpP"
      },
      "source": [
        "$$D(X) = npq$$"
      ]
    },
    {
      "cell_type": "markdown",
      "metadata": {
        "id": "IrvrSnNiMkGu"
      },
      "source": []
    },
    {
      "cell_type": "markdown",
      "metadata": {
        "id": "N5sKWGxhzdpT"
      },
      "source": [
        "**Пример 4**"
      ]
    },
    {
      "cell_type": "markdown",
      "metadata": {
        "id": "NCchv5yczdpW"
      },
      "source": [
        "Еще раз приведем таблицу вероятностей выпадания орла при трехкратном подбрасывании монеты. С помощью формулы Бернулли покажем, как вычисляются эти вероятности:"
      ]
    },
    {
      "cell_type": "markdown",
      "metadata": {
        "id": "PLJ94aIvzdpX"
      },
      "source": [
        "<table border=\"3\">\n",
        "<tr><th>**X**</th><td>0</td><td>1</td><td>2</td><td>3</td></tr>\n",
        "<tr><th>**p**</th><td>0.125</td><td>0.375</td><td>0.375</td><td>0.125</td></tr>\n",
        "</table>"
      ]
    },
    {
      "cell_type": "markdown",
      "metadata": {
        "id": "ikk81pj34XeE"
      },
      "source": []
    },
    {
      "cell_type": "code",
      "metadata": {
        "id": "TkkZpAGsMQMT"
      },
      "source": [],
      "execution_count": null,
      "outputs": []
    },
    {
      "cell_type": "markdown",
      "metadata": {
        "id": "V_ngyqNczdpc"
      },
      "source": [
        "$$p(k=1) = C_n^kp^kq^{n-k} = C_3^1p^1q^2 = \\frac{3!}{1!(3-1)!} \\cdot 0.5^1 \\cdot 0.5^2 = 3 \\cdot 0.5 \\cdot 0.25 = 0.375$$"
      ]
    },
    {
      "cell_type": "markdown",
      "metadata": {
        "id": "Sen4UGXHzdpe"
      },
      "source": [
        "\n",
        "$$p(k=2) = C_n^kp^kq^{n-k} = C_3^2p^2q^1 = \\frac{3!}{2!(3-2)!} \\cdot 0.5^2 \\cdot 0.5^1 = 3 \\cdot 0.25 \\cdot 0.5 = 0.375$$"
      ]
    },
    {
      "cell_type": "markdown",
      "metadata": {
        "id": "y4GVm31ozdpi"
      },
      "source": [
        "$$p(k=3) = C_n^kp^kq^{n-k} = C_3^3p^3q^0 = \\frac{3!}{3!(3-3)!} \\cdot 0.5^3 \\cdot 0.5^0 = 1 \\cdot 0.125 \\cdot 1 = 0.125$$"
      ]
    },
    {
      "cell_type": "markdown",
      "metadata": {
        "id": "Cr2UwCsszdpm"
      },
      "source": [
        "**Пример 5**"
      ]
    },
    {
      "cell_type": "markdown",
      "metadata": {
        "id": "yZPbYTf0zdpp"
      },
      "source": [
        "Будем находить математическое ожидание для биномиального распределения из предыдущего примера."
      ]
    },
    {
      "cell_type": "markdown",
      "metadata": {
        "id": "qU7MgLx3Vi8U"
      },
      "source": []
    },
    {
      "cell_type": "markdown",
      "metadata": {
        "id": "ffsAtr8Jzdpq"
      },
      "source": [
        "Параметр $n$ равняется 3, так как монету побрасывают три раза, а вероятность выпадания орла $p$ равняется 0.5.\n",
        "\n",
        "Посчитаем математическое ожидание:"
      ]
    },
    {
      "cell_type": "markdown",
      "metadata": {
        "id": "LySdLS6pzdpt"
      },
      "source": [
        "$$M(X) = np = 3 \\cdot 0.5 = 1.5$$"
      ]
    },
    {
      "cell_type": "markdown",
      "metadata": {
        "id": "iMWZ-HPlzdpv"
      },
      "source": [
        "Результат можно понимать так: в среднем при трехкратном подбрасывании монеты орел выпадает 1.5 раза.\n",
        "\n",
        "Теперь посчитаем дисперсию, зная, что величина $q$ (вероятность невыпадания орла, то есть выпадания решки) равна также 0.5:"
      ]
    },
    {
      "cell_type": "markdown",
      "metadata": {
        "id": "KBwQDIfdzdpw"
      },
      "source": [
        "$$D(X) = npq = 3 \\cdot 0.5 \\cdot 0.5 = 0.75$$"
      ]
    },
    {
      "cell_type": "markdown",
      "metadata": {
        "id": "_p5BwNINzdp4"
      },
      "source": [
        "**Распределение Пуассона**"
      ]
    },
    {
      "cell_type": "markdown",
      "metadata": {
        "id": "WYa92YL2x7Jx"
      },
      "source": []
    },
    {
      "cell_type": "markdown",
      "metadata": {
        "id": "yF0eGp9Yzdp7"
      },
      "source": [
        "Если проводится большое количество испытаний $n$ и при этом вероятность $p$ появления события $A$ в отдельном испытании мала, применяют формулу Пуассона для вычисления вероятности того, что событие произойдет $m$ раз в $n$ испытаниях:"
      ]
    },
    {
      "cell_type": "markdown",
      "metadata": {
        "id": "Z153O9Ptzdp-"
      },
      "source": [
        "$$P_m \\approx \\frac{\\lambda^m}{m!}e^{-\\lambda}$$"
      ]
    },
    {
      "cell_type": "markdown",
      "metadata": {
        "id": "9h6NXlgbzdqC"
      },
      "source": [
        "**где** $λ = np$."
      ]
    },
    {
      "cell_type": "markdown",
      "metadata": {
        "id": "8aFPW32NzdqE"
      },
      "source": [
        "Распределение Пуассона и формула Пуассона часто применяются в теории массового обслуживания (ТМО).\n",
        "\n",
        "ТМО — это раздел теории вероятностей, в котором исследуется рациональный выбор структуры системы обслуживания и его процесса. В основе теории — изучение потоков требований на обслуживание, поступающих в систему и выходящих из нее, длительности ожидания и длины очередей."
      ]
    },
    {
      "cell_type": "markdown",
      "metadata": {
        "id": "qZ2hbwnkzdqG"
      },
      "source": [
        "**Пример 6**"
      ]
    },
    {
      "cell_type": "markdown",
      "metadata": {
        "id": "g6yXxtKyzdqJ"
      },
      "source": [
        "Вероятность того, что среди писем, поступающих на определенный почтовый ящик, встретится письмо со спамом, составляет 0.01.\n",
        "\n",
        "Найдите вероятность того, что среди 1000 писем, поступивших на него за месяц, будет 11 со спамом."
      ]
    },
    {
      "cell_type": "markdown",
      "metadata": {
        "id": "fGFN5b_gzdqM"
      },
      "source": [
        "Применим формулу Пуассона, зная, что $m = 11$ и $λ = np = 1000 \\cdot 0.01 = 10$:"
      ]
    },
    {
      "cell_type": "markdown",
      "metadata": {
        "id": "uoxO_pAezdqN"
      },
      "source": [
        "$$P_{11} \\approx \\frac{\\lambda^m}{m!}e^{-\\lambda} \\approx \\frac{10^{11}}{11!}e^{-10} \\approx  0.1137$$"
      ]
    },
    {
      "cell_type": "code",
      "metadata": {
        "id": "tBRZFwqWsx6x"
      },
      "source": [],
      "execution_count": null,
      "outputs": []
    },
    {
      "cell_type": "markdown",
      "metadata": {
        "id": "3Odoc8GbzdqP"
      },
      "source": [
        "Если использовать Python для расчетов, можно вычислить вероятность:"
      ]
    },
    {
      "cell_type": "code",
      "metadata": {
        "id": "91FItk5GzdqS",
        "colab": {
          "base_uri": "https://localhost:8080/"
        },
        "outputId": "1577269c-d3ee-4d6e-e834-d4b8d8b2140d"
      },
      "source": [
        "n = 1000\n",
        "m = 11\n",
        "p = 0.01\n",
        "lambda_ = n * p\n",
        "\n",
        "(lambda_**m / np.math.factorial(m)) * np.exp(-lambda_)"
      ],
      "execution_count": null,
      "outputs": [
        {
          "output_type": "execute_result",
          "data": {
            "text/plain": [
              "0.1353352832366127"
            ]
          },
          "metadata": {
            "tags": []
          },
          "execution_count": 29
        }
      ]
    },
    {
      "cell_type": "code",
      "metadata": {
        "id": "ROnWnAPgR_5I"
      },
      "source": [
        "from math import factorial"
      ],
      "execution_count": null,
      "outputs": []
    },
    {
      "cell_type": "code",
      "metadata": {
        "id": "XqmC5AY8I_Ie"
      },
      "source": [
        "def combinations(n, k):\n",
        "    return int(factorial(n) / (factorial(k) * factorial(n - k)))"
      ],
      "execution_count": null,
      "outputs": []
    },
    {
      "cell_type": "code",
      "metadata": {
        "id": "9LWKHseJzdqj",
        "colab": {
          "base_uri": "https://localhost:8080/"
        },
        "outputId": "cba4b2ff-f416-4837-c785-8f748190c639"
      },
      "source": [
        "n = 144\n",
        "k = 5\n",
        "p = 1/2\n",
        "X = combinations(n, k) * (p ** k) * (1 - p) ** (n - k)\n",
        "X"
      ],
      "execution_count": null,
      "outputs": [
        {
          "output_type": "execute_result",
          "data": {
            "text/plain": [
              "2.1569168371633305e-35"
            ]
          },
          "metadata": {
            "tags": []
          },
          "execution_count": 9
        }
      ]
    },
    {
      "cell_type": "code",
      "metadata": {
        "colab": {
          "base_uri": "https://localhost:8080/"
        },
        "id": "X_axb4OmdDsB",
        "outputId": "6357a9a1-8b1c-4424-8ea7-f4ee8f10e056"
      },
      "source": [
        "0.489 * 0.33 + 0.42 * 0.2975 + 0.09 * 0.6694"
      ],
      "execution_count": null,
      "outputs": [
        {
          "output_type": "execute_result",
          "data": {
            "text/plain": [
              "0.34656600000000004"
            ]
          },
          "metadata": {
            "tags": []
          },
          "execution_count": 28
        }
      ]
    },
    {
      "cell_type": "code",
      "metadata": {
        "colab": {
          "base_uri": "https://localhost:8080/"
        },
        "id": "y3cQaYrQdrDx",
        "outputId": "76459c33-0401-4015-badd-1808e7ef6896"
      },
      "source": [
        "(7/10)*(6/9)*(2/11)*(1/10) + (7/10)*(3/9)*(9/11)*(2/10) + (7/10)*(3/9)*(2/11)*(9/10) + (3/10)*(7/9)*(9/11)*(2/10) + (3/10)*(7/9)*(2/11)*(9/10) + (3/10)*(2/9)*(9/11)*(8/10)"
      ],
      "execution_count": null,
      "outputs": [
        {
          "output_type": "execute_result",
          "data": {
            "text/plain": [
              "0.20484848484848484"
            ]
          },
          "metadata": {
            "tags": []
          },
          "execution_count": 3
        }
      ]
    },
    {
      "cell_type": "code",
      "metadata": {
        "colab": {
          "base_uri": "https://localhost:8080/"
        },
        "id": "L1Ni8Xoad7ij",
        "outputId": "681397d4-2fe9-436e-9312-8cf1c6851a8d"
      },
      "source": [
        "1 - 0.33 * 0.09"
      ],
      "execution_count": null,
      "outputs": [
        {
          "output_type": "execute_result",
          "data": {
            "text/plain": [
              "0.9703"
            ]
          },
          "metadata": {
            "tags": []
          },
          "execution_count": 31
        }
      ]
    },
    {
      "cell_type": "markdown",
      "metadata": {
        "id": "MvlhoV9hqe2E"
      },
      "source": [
        "# <center>Практическое задание <a class=\"anchor\" id=\"ex\"></a><center>"
      ]
    },
    {
      "cell_type": "code",
      "metadata": {
        "id": "f3KGBsBx4CC8"
      },
      "source": [
        "from sympy import *\n",
        "import numpy as np\n",
        "from math import factorial as fac\n",
        "\n",
        "def combinations(n, k):\n",
        "    return int(fac(n) / (fac(k) * fac(n - k)))\n",
        "\n",
        "def bern(p, n, k):\n",
        "    return combinations(n,k) * p**(k) * (1 - p)**(n - k)\n",
        "\n",
        "def puas(l,m):\n",
        "    return l**m/fac(m)*np.exp(-l)"
      ],
      "execution_count": null,
      "outputs": []
    },
    {
      "cell_type": "markdown",
      "metadata": {
        "id": "1_ngF0whrFU8"
      },
      "source": [
        "### Задание 1 <a class=\"anchor\" id=\"ex1\"></a>\n",
        "\n",
        "Вероятность того, что стрелок попадет в мишень, выстрелив один раз, равна 0.8. Стрелок выстрелил 100 раз. Найдите вероятность того, что стрелок попадет в цель ровно 85 раз."
      ]
    },
    {
      "cell_type": "markdown",
      "metadata": {
        "id": "zPLmzDj7rF8V"
      },
      "source": [
        "### Решение:"
      ]
    },
    {
      "cell_type": "markdown",
      "metadata": {
        "id": "QY4-v5ZKrGEq"
      },
      "source": [
        "### Вероятность наступления события - попадание в цель 85 раз из 100 по формуле Бернулли.\n",
        "### $$P_n(X=k) = C^k_np^kq^{n-k}$$\n",
        "#### **где $p = 0.8$, а $q = 1-p = 0.2$**\n",
        "### $$C^k_n = C^{85}_{100} = \\frac{100!}{85!(100-85)!} =2.5333847134998864e+17$$\n",
        "### $$P_{100}(X=85) = C^{85}_{100}p^{85}q^{100-85} = 0.04806 = 4.81\\%$$"
      ]
    },
    {
      "cell_type": "code",
      "metadata": {
        "colab": {
          "base_uri": "https://localhost:8080/"
        },
        "id": "ENvEWhmXznm8",
        "outputId": "fbc0a865-6025-4b74-bf97-f61ef612d8ae"
      },
      "source": [
        "print('C(85, 100) = ', combinations(100, 85))\n",
        "print('p(0.8)^85 = ', 0.8**85)\n",
        "print('q(0.2)^15 = ', 0.2**15)\n",
        "print('P_bern(n=100, X=85) = ', combinations(100, 85)*(0.8**85)*(0.2**15))\n",
        "print('P_bern(p=0.8, n=100, X=85) = ', bern(0.8, 100, 85))"
      ],
      "execution_count": null,
      "outputs": [
        {
          "output_type": "stream",
          "text": [
            "C(85, 100) =  253338471349988640\n",
            "p(0.8)^85 =  5.789604461865837e-09\n",
            "q(0.2)^15 =  3.276800000000003e-11\n",
            "P_bern(n=100, X=85) =  0.048061793700746556\n",
            "P_bern(p=0.8, n=100, X=85) =  0.048061793700746355\n"
          ],
          "name": "stdout"
        }
      ]
    },
    {
      "cell_type": "markdown",
      "metadata": {
        "id": "VxvY2JKw0sfp"
      },
      "source": [
        "### Вероятность наступления события - попадание в цель 85 раз из 100 по формуле Пуассона.\n",
        "### $$P_m \\approx \\frac{\\lambda^m}{m!}e^{-\\lambda}$$\n",
        "### **где $\\lambda = pn,\\,\\,\\, p = 0.8, \\,\\,\\,n=100, \\,\\,\\,m=85$**\n",
        "### $$P_{85} \\approx \\frac{(0.8 \\cdot 100)^{85}}{{85!}}e^{-(0.8 \\cdot 100)} = 0.0371 = 3.71\\%$$\n"
      ]
    },
    {
      "cell_type": "code",
      "metadata": {
        "colab": {
          "base_uri": "https://localhost:8080/"
        },
        "id": "fFtJvVkH1CFu",
        "outputId": "82c6ccc8-03d0-40e3-cfd2-67af94025c32"
      },
      "source": [
        "print('P_puas = ', (0.8*100)**85 / (fac(85)*exp(0.8*100)))\n",
        "lda = 0.8*100\n",
        "print('P_puas(lambda=p*n, m=85) = ', puas(lda, 85))"
      ],
      "execution_count": null,
      "outputs": [
        {
          "output_type": "stream",
          "text": [
            "P_puas =  0.0370926143436918\n",
            "P_puas(lambda=p*n, m=85) =  0.03709261434369179\n"
          ],
          "name": "stdout"
        }
      ]
    },
    {
      "cell_type": "markdown",
      "metadata": {
        "id": "2VWkXQbWrGMq"
      },
      "source": [
        "### Задание 2 <a class=\"anchor\" id=\"ex2\"></a>"
      ]
    },
    {
      "cell_type": "markdown",
      "metadata": {
        "id": "AkBXUTwD0fuQ"
      },
      "source": [
        "Вероятность того, что лампочка перегорит в течение первого дня эксплуатации, равна 0.0004. В жилом комплексе после ремонта в один день включили 5000 новых лампочек. Какова вероятность, что ни одна из них не перегорит в первый день? Какова вероятность, что перегорят ровно две?"
      ]
    },
    {
      "cell_type": "markdown",
      "metadata": {
        "id": "kaXw1OY4GPNe"
      },
      "source": [
        "### Решение:"
      ]
    },
    {
      "cell_type": "markdown",
      "metadata": {
        "id": "dwf-8UCp0kfz"
      },
      "source": [
        "### Определим вероятность наступления событий по формуле Пуассона.\n",
        "### $$P_m \\approx \\frac{\\lambda^m}{m!}e^{-\\lambda}$$\n",
        "### **где $\\lambda = pn,\\,\\,\\, p = 0.0004, \\,\\,\\,n=5000, \\,\\,\\,m=0$**, в первом случае (не перегорит ни одна лампочка) и $m=2$ во втором случае (перегорят ровно две)\n",
        "### $$P_{0} \\approx \\frac{(2)^{0}}{{0!}}e^{-(2)} = 0.13533 = 13.533\\%$$\n",
        "\n",
        "### $$P_{2} \\approx \\frac{(2)^{2}}{{2!}}e^{-(2)} = 0.27067 = 27.067\\%$$\n",
        "\n",
        "\n",
        "### Определим вероятность наступления событий по формуле Бернулли.\n",
        "### $$P_n(X=k) = C^k_np^kq^{n-k}$$\n",
        "### $$p=0.0004,\\,\\,\\,\\,q=1-0.0004$$\n",
        "### $$P_{5000}(X=0) = C^{0}_{5000}p^{0}q^{5000-0} = 0.13528 = 13.53\\%$$\n",
        "### $$P_{5000}(X=2) = C^{2}_{5000}p^{2}q^{5000-2} = 0.27073 = 27.07\\%$$"
      ]
    },
    {
      "cell_type": "code",
      "metadata": {
        "colab": {
          "base_uri": "https://localhost:8080/"
        },
        "id": "hHI6XpSTOS6y",
        "outputId": "5650107d-931c-45fe-a23b-b9f62e406cc5"
      },
      "source": [
        "print('1) Не перегорит ни одна лампочка с вероятностью:')\n",
        "lda = 0.0004*5000\n",
        "print('P_puas(lambda=p*n, m=0) = ', puas(lda, 0))\n",
        "print('P_bern(p, n, k) = ', bern(0.0004, 5000, 0))"
      ],
      "execution_count": null,
      "outputs": [
        {
          "output_type": "stream",
          "text": [
            "1) Не перегорит ни одна лампочка с вероятностью:\n",
            "P_puas(lambda=p*n, m=0) =  0.1353352832366127\n",
            "P_bern(p, n, k) =  0.13528114551440706\n"
          ],
          "name": "stdout"
        }
      ]
    },
    {
      "cell_type": "code",
      "metadata": {
        "colab": {
          "base_uri": "https://localhost:8080/"
        },
        "id": "rE8fwKo0SYbi",
        "outputId": "2227a815-2a48-4f1e-8031-6eee6d39636c"
      },
      "source": [
        "print('2) Перегорят две лампочки с вероятностью:')\n",
        "lda = 0.0004*5000\n",
        "print('P_puas(lambda=p*n, m=2) = ', puas(lda, 2))\n",
        "print('P_bern(p, n, k) = ', bern(0.0004, 5000, 2))"
      ],
      "execution_count": null,
      "outputs": [
        {
          "output_type": "stream",
          "text": [
            "2) Перегорят две лампочки с вероятностью:\n",
            "P_puas(lambda=p*n, m=2) =  0.2706705664732254\n",
            "P_bern(p, n, k) =  0.2707247150266753\n"
          ],
          "name": "stdout"
        }
      ]
    },
    {
      "cell_type": "markdown",
      "metadata": {
        "id": "pTJSXK4RGHIw"
      },
      "source": [
        "### Задание 3 <a class=\"anchor\" id=\"ex3\"></a>"
      ]
    },
    {
      "cell_type": "markdown",
      "metadata": {
        "id": "9L_f3Yr6qfd1"
      },
      "source": [
        "Монету подбросили 144 раза. Какова вероятность, что орел выпадет ровно 70 раз?"
      ]
    },
    {
      "cell_type": "markdown",
      "metadata": {
        "id": "vMrCbnIVGVel"
      },
      "source": [
        "### Решение:"
      ]
    },
    {
      "cell_type": "markdown",
      "metadata": {
        "id": "NPFA8ggIGXL8"
      },
      "source": [
        "\n",
        "### Вероятность наступления событий по формуле Бернулли.\n",
        "### $$P_n(X=k) = C^k_np^kq^{n-k}$$\n",
        "### $$p=0.5,\\,\\,\\,\\,q=1-0.5$$\n",
        "### $$P_{144}(X=70) = C^{70}_{144}p^{70}q^{144-70} = 0.0628 = 6.28\\%$$"
      ]
    },
    {
      "cell_type": "code",
      "metadata": {
        "colab": {
          "base_uri": "https://localhost:8080/"
        },
        "id": "f-3d4rgEGpgg",
        "outputId": "157ff9cb-b621-4151-e724-dd8f7a0bcafa"
      },
      "source": [
        "print('По формуле Бернулли 70 раз из 144 орел выпадет с вероятностью P(n=5000, X=2) = ', bern(0.5, 144, 70))\n"
      ],
      "execution_count": null,
      "outputs": [
        {
          "output_type": "stream",
          "text": [
            "По формуле Бернулли 70 раз из 144 орел выпадет с вероятностью P(n=5000, X=2) =  0.06281178035144776\n"
          ],
          "name": "stdout"
        }
      ]
    },
    {
      "cell_type": "markdown",
      "metadata": {
        "id": "GL_w9c09Gkd2"
      },
      "source": [
        "### Задание 4 <a class=\"anchor\" id=\"ex4\"></a>"
      ]
    },
    {
      "cell_type": "markdown",
      "metadata": {
        "id": "uX-6XQskG6jG"
      },
      "source": [
        "В первом ящике находится 10 мячей, из которых 7 - белые. Во втором ящике - 11 мячей, из которых 9 белых. Из каждого ящика вытаскивают случайным образом по два мяча. Какова вероятность того, что все мячи белые? Какова вероятность того, что ровно два мяча белые? Какова вероятность того, что хотя бы один мяч белый?"
      ]
    },
    {
      "cell_type": "markdown",
      "metadata": {
        "id": "UvlIBfA5HCs5"
      },
      "source": [
        "### Решение:"
      ]
    },
    {
      "cell_type": "markdown",
      "metadata": {
        "id": "IGMlzvsUHG9F"
      },
      "source": [
        "#### Вероятность того, что все мячи белые\n",
        "\n",
        "### $$P(4) = \\frac{7}{10} \\cdot \\frac{6}{9} \\cdot \\frac{9}{11} \\cdot \\frac{8}{10} = \\frac{3024}{9900} = 0.305454 = 30,55\\%$$\n",
        "\n",
        "#### Посчитаем вероятность того, что два мяча белые - сумма вероятностей два белых из первого ящика и два черных из второго, два черных из первого и два белых из второго, один белый из первого и один белый из второго\n",
        "\n",
        "### $$P(2) = \\frac{7}{10} \\cdot \\frac{6}{9} \\cdot \\frac{2}{11} \\cdot \\frac{1}{10} + \\frac{3}{10} \\cdot \\frac{2}{9} \\cdot \\frac{9}{11} \\cdot \\frac{8}{10} + \\frac{7}{10} \\cdot \\frac{3}{9} \\cdot \\frac{9}{11} \\cdot \\frac{2}{10}= \\frac{84 + 432 + 378}{9900} = 0.090303= 9,03\\%$$\n",
        "\n",
        "#### Посчитаем вероятность того, что хотя бы один мяч белый решив противоположную задачу как обратную к вероятности что все мячи черные\n",
        "\n",
        "### $$P(1) = 1- \\frac{3}{10} \\cdot \\frac{2}{9} \\cdot \\frac{2}{11} \\cdot \\frac{1}{10} = 1 - \\frac{12}{9900} = 1 - 0.001212 = 0,998787 = 99,88\\%$$"
      ]
    },
    {
      "cell_type": "code",
      "metadata": {
        "colab": {
          "base_uri": "https://localhost:8080/"
        },
        "id": "Zvc1YavZHzRB",
        "outputId": "08882195-6ede-4cae-c9d8-09b3fb651f0f"
      },
      "source": [
        "a = 9900-12\n",
        "b = 10*9*11*10\n",
        "print(a, b, a/b)"
      ],
      "execution_count": null,
      "outputs": [
        {
          "output_type": "stream",
          "text": [
            "9888 9900 0.9987878787878788\n"
          ],
          "name": "stdout"
        }
      ]
    }
  ]
}